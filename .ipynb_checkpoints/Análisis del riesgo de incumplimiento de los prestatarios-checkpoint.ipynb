{
 "cells": [
  {
   "cell_type": "markdown",
   "id": "f79a8f0b",
   "metadata": {},
   "source": [
    "# Análisis del riesgo de incumplimiento de los prestatarios"
   ]
  },
  {
   "cell_type": "markdown",
   "id": "26f7fc4e",
   "metadata": {},
   "source": [
    "## Introducción\n",
    "Este proyecto consiste en preparar un informe para la división de préstamos de un banco. Se deberá averiguar si el estado civil y el numero de hijos de un cliente tinen un impacto en el incumplimiento de pago de un préstamo. El banco tienen algunos datos sobre la solvencia crediticia de los clientes. Nuestro informe que brindemos se tendrá en cuenta al crear una puntuacion de crédito para un cliente potencial. Se utiliza una puntuación de crédito para evaluar la capacidad de un prestario potencial para pagar su préstamo. \n",
    "\n",
    "**A lo largo de este proyecto se tendrán que explicar algunas características a detalle, tales como.**\n",
    "-\tQué valores ausentes identificaste\n",
    "-\tPosibles razones por las que estos valores ausentes estaban allí\n",
    "-\tQué método utilizaste para completar los valores ausentes\n",
    "-\tQué método utilizaste para encontrar y eliminar datos duplicados y por qué\n",
    "-\tPosibles razones por las que había datos duplicados\n",
    "-\tQué método utilizaste para cambiar el tipo de datos y por qué\n",
    "-\tQué diccionarios has seleccionado para este conjunto de datos y por qué\n",
    "\n",
    "\n",
    " **Después de realizar el preprocesamiento de datos, responderemos las siguientes preguntas.**\n",
    " \n",
    "\n",
    "-\t¿Hay alguna conexión entre tener hijos y pagar un préstamo a tiempo?\n",
    "-\t¿Existe una conexión entre el estado civil y el pago a tiempo de un préstamo?\n",
    "-\t¿Existe una conexión entre el nivel de ingresos y el pago a tiempo de un préstamo?\n",
    "-\t¿Cómo afectan los diferentes propósitos del préstamo al reembolso a tiempo del préstamo?\n",
    "\n",
    "Al finalizar realizaremos una conclusión para que se tenga una idea más clara del análisis. "
   ]
  },
  {
   "cell_type": "markdown",
   "id": "7fdc4bd6",
   "metadata": {},
   "source": [
    "**Descripción de los datos**\n",
    "\n",
    "-\tchildren: el número de hijos en la familia\n",
    "-\tdays_employed: por cuánto tiempo ha estado trabajando el cliente\n",
    "-\tdob_years: la edad del cliente\n",
    "-\teducation: el nivel educativo del cliente\n",
    "-\teducation_id: identificador de la educación del cliente\n",
    "-\tfamily_status: estado civil del cliente\n",
    "-\tfamily_status_id: identificador del estado civil del cliente\n",
    "-\tgender: el género del cliente\n",
    "-\tincome_type: el tipo de ingreso del cliente\n",
    "-\tdebt: si el cliente ha incumplido alguna vez un préstamo\n",
    "-\ttotal_income: ingresos mensuales\n",
    "-\tpurpose: motivo por el que se solicita un préstamo\n"
   ]
  },
  {
   "cell_type": "markdown",
   "id": "67ab7973",
   "metadata": {},
   "source": [
    "## Extracción de Datos"
   ]
  },
  {
   "cell_type": "code",
   "execution_count": 609,
   "id": "50ef54a0",
   "metadata": {},
   "outputs": [],
   "source": [
    "import pandas as pd\n",
    "import numpy as np\n",
    "import matplotlib.pyplot as plt\n",
    "import seaborn as sns"
   ]
  },
  {
   "cell_type": "code",
   "execution_count": 610,
   "id": "7407c7f9",
   "metadata": {},
   "outputs": [],
   "source": [
    "df = pd.read_csv('C:/Users/Albert/Downloads/credit_scoring_eng (1).csv')"
   ]
  },
  {
   "cell_type": "code",
   "execution_count": 611,
   "id": "d89ea1ca",
   "metadata": {},
   "outputs": [
    {
     "data": {
      "text/plain": [
       "(21525, 12)"
      ]
     },
     "execution_count": 611,
     "metadata": {},
     "output_type": "execute_result"
    }
   ],
   "source": [
    "df.shape"
   ]
  },
  {
   "cell_type": "code",
   "execution_count": 612,
   "id": "99ac470a",
   "metadata": {},
   "outputs": [
    {
     "data": {
      "text/html": [
       "<div>\n",
       "<style scoped>\n",
       "    .dataframe tbody tr th:only-of-type {\n",
       "        vertical-align: middle;\n",
       "    }\n",
       "\n",
       "    .dataframe tbody tr th {\n",
       "        vertical-align: top;\n",
       "    }\n",
       "\n",
       "    .dataframe thead th {\n",
       "        text-align: right;\n",
       "    }\n",
       "</style>\n",
       "<table border=\"1\" class=\"dataframe\">\n",
       "  <thead>\n",
       "    <tr style=\"text-align: right;\">\n",
       "      <th></th>\n",
       "      <th>children</th>\n",
       "      <th>days_employed</th>\n",
       "      <th>dob_years</th>\n",
       "      <th>education_id</th>\n",
       "      <th>family_status_id</th>\n",
       "      <th>debt</th>\n",
       "      <th>total_income</th>\n",
       "    </tr>\n",
       "  </thead>\n",
       "  <tbody>\n",
       "    <tr>\n",
       "      <th>count</th>\n",
       "      <td>21525.000000</td>\n",
       "      <td>19351.000000</td>\n",
       "      <td>21525.000000</td>\n",
       "      <td>21525.000000</td>\n",
       "      <td>21525.000000</td>\n",
       "      <td>21525.000000</td>\n",
       "      <td>19351.000000</td>\n",
       "    </tr>\n",
       "    <tr>\n",
       "      <th>mean</th>\n",
       "      <td>0.538908</td>\n",
       "      <td>63046.497661</td>\n",
       "      <td>43.293380</td>\n",
       "      <td>0.817236</td>\n",
       "      <td>0.972544</td>\n",
       "      <td>0.080883</td>\n",
       "      <td>26787.568355</td>\n",
       "    </tr>\n",
       "    <tr>\n",
       "      <th>std</th>\n",
       "      <td>1.381587</td>\n",
       "      <td>140827.311974</td>\n",
       "      <td>12.574584</td>\n",
       "      <td>0.548138</td>\n",
       "      <td>1.420324</td>\n",
       "      <td>0.272661</td>\n",
       "      <td>16475.450632</td>\n",
       "    </tr>\n",
       "    <tr>\n",
       "      <th>min</th>\n",
       "      <td>-1.000000</td>\n",
       "      <td>-18388.949901</td>\n",
       "      <td>0.000000</td>\n",
       "      <td>0.000000</td>\n",
       "      <td>0.000000</td>\n",
       "      <td>0.000000</td>\n",
       "      <td>3306.762000</td>\n",
       "    </tr>\n",
       "    <tr>\n",
       "      <th>25%</th>\n",
       "      <td>0.000000</td>\n",
       "      <td>-2747.423625</td>\n",
       "      <td>33.000000</td>\n",
       "      <td>1.000000</td>\n",
       "      <td>0.000000</td>\n",
       "      <td>0.000000</td>\n",
       "      <td>16488.504500</td>\n",
       "    </tr>\n",
       "    <tr>\n",
       "      <th>50%</th>\n",
       "      <td>0.000000</td>\n",
       "      <td>-1203.369529</td>\n",
       "      <td>42.000000</td>\n",
       "      <td>1.000000</td>\n",
       "      <td>0.000000</td>\n",
       "      <td>0.000000</td>\n",
       "      <td>23202.870000</td>\n",
       "    </tr>\n",
       "    <tr>\n",
       "      <th>75%</th>\n",
       "      <td>1.000000</td>\n",
       "      <td>-291.095954</td>\n",
       "      <td>53.000000</td>\n",
       "      <td>1.000000</td>\n",
       "      <td>1.000000</td>\n",
       "      <td>0.000000</td>\n",
       "      <td>32549.611000</td>\n",
       "    </tr>\n",
       "    <tr>\n",
       "      <th>max</th>\n",
       "      <td>20.000000</td>\n",
       "      <td>401755.400475</td>\n",
       "      <td>75.000000</td>\n",
       "      <td>4.000000</td>\n",
       "      <td>4.000000</td>\n",
       "      <td>1.000000</td>\n",
       "      <td>362496.645000</td>\n",
       "    </tr>\n",
       "  </tbody>\n",
       "</table>\n",
       "</div>"
      ],
      "text/plain": [
       "           children  days_employed     dob_years  education_id  \\\n",
       "count  21525.000000   19351.000000  21525.000000  21525.000000   \n",
       "mean       0.538908   63046.497661     43.293380      0.817236   \n",
       "std        1.381587  140827.311974     12.574584      0.548138   \n",
       "min       -1.000000  -18388.949901      0.000000      0.000000   \n",
       "25%        0.000000   -2747.423625     33.000000      1.000000   \n",
       "50%        0.000000   -1203.369529     42.000000      1.000000   \n",
       "75%        1.000000    -291.095954     53.000000      1.000000   \n",
       "max       20.000000  401755.400475     75.000000      4.000000   \n",
       "\n",
       "       family_status_id          debt   total_income  \n",
       "count      21525.000000  21525.000000   19351.000000  \n",
       "mean           0.972544      0.080883   26787.568355  \n",
       "std            1.420324      0.272661   16475.450632  \n",
       "min            0.000000      0.000000    3306.762000  \n",
       "25%            0.000000      0.000000   16488.504500  \n",
       "50%            0.000000      0.000000   23202.870000  \n",
       "75%            1.000000      0.000000   32549.611000  \n",
       "max            4.000000      1.000000  362496.645000  "
      ]
     },
     "execution_count": 612,
     "metadata": {},
     "output_type": "execute_result"
    }
   ],
   "source": [
    "df.describe()"
   ]
  },
  {
   "cell_type": "code",
   "execution_count": 613,
   "id": "9c889a3f",
   "metadata": {
    "scrolled": true
   },
   "outputs": [
    {
     "data": {
      "text/html": [
       "<div>\n",
       "<style scoped>\n",
       "    .dataframe tbody tr th:only-of-type {\n",
       "        vertical-align: middle;\n",
       "    }\n",
       "\n",
       "    .dataframe tbody tr th {\n",
       "        vertical-align: top;\n",
       "    }\n",
       "\n",
       "    .dataframe thead th {\n",
       "        text-align: right;\n",
       "    }\n",
       "</style>\n",
       "<table border=\"1\" class=\"dataframe\">\n",
       "  <thead>\n",
       "    <tr style=\"text-align: right;\">\n",
       "      <th></th>\n",
       "      <th>children</th>\n",
       "      <th>days_employed</th>\n",
       "      <th>dob_years</th>\n",
       "      <th>education</th>\n",
       "      <th>education_id</th>\n",
       "      <th>family_status</th>\n",
       "      <th>family_status_id</th>\n",
       "      <th>gender</th>\n",
       "      <th>income_type</th>\n",
       "      <th>debt</th>\n",
       "      <th>total_income</th>\n",
       "      <th>purpose</th>\n",
       "    </tr>\n",
       "  </thead>\n",
       "  <tbody>\n",
       "    <tr>\n",
       "      <th>0</th>\n",
       "      <td>1</td>\n",
       "      <td>-8437.673028</td>\n",
       "      <td>42</td>\n",
       "      <td>bachelor's degree</td>\n",
       "      <td>0</td>\n",
       "      <td>married</td>\n",
       "      <td>0</td>\n",
       "      <td>F</td>\n",
       "      <td>employee</td>\n",
       "      <td>0</td>\n",
       "      <td>40620.102</td>\n",
       "      <td>purchase of the house</td>\n",
       "    </tr>\n",
       "    <tr>\n",
       "      <th>1</th>\n",
       "      <td>1</td>\n",
       "      <td>-4024.803754</td>\n",
       "      <td>36</td>\n",
       "      <td>secondary education</td>\n",
       "      <td>1</td>\n",
       "      <td>married</td>\n",
       "      <td>0</td>\n",
       "      <td>F</td>\n",
       "      <td>employee</td>\n",
       "      <td>0</td>\n",
       "      <td>17932.802</td>\n",
       "      <td>car purchase</td>\n",
       "    </tr>\n",
       "    <tr>\n",
       "      <th>2</th>\n",
       "      <td>0</td>\n",
       "      <td>-5623.422610</td>\n",
       "      <td>33</td>\n",
       "      <td>Secondary Education</td>\n",
       "      <td>1</td>\n",
       "      <td>married</td>\n",
       "      <td>0</td>\n",
       "      <td>M</td>\n",
       "      <td>employee</td>\n",
       "      <td>0</td>\n",
       "      <td>23341.752</td>\n",
       "      <td>purchase of the house</td>\n",
       "    </tr>\n",
       "    <tr>\n",
       "      <th>3</th>\n",
       "      <td>3</td>\n",
       "      <td>-4124.747207</td>\n",
       "      <td>32</td>\n",
       "      <td>secondary education</td>\n",
       "      <td>1</td>\n",
       "      <td>married</td>\n",
       "      <td>0</td>\n",
       "      <td>M</td>\n",
       "      <td>employee</td>\n",
       "      <td>0</td>\n",
       "      <td>42820.568</td>\n",
       "      <td>supplementary education</td>\n",
       "    </tr>\n",
       "    <tr>\n",
       "      <th>4</th>\n",
       "      <td>0</td>\n",
       "      <td>340266.072047</td>\n",
       "      <td>53</td>\n",
       "      <td>secondary education</td>\n",
       "      <td>1</td>\n",
       "      <td>civil partnership</td>\n",
       "      <td>1</td>\n",
       "      <td>F</td>\n",
       "      <td>retiree</td>\n",
       "      <td>0</td>\n",
       "      <td>25378.572</td>\n",
       "      <td>to have a wedding</td>\n",
       "    </tr>\n",
       "  </tbody>\n",
       "</table>\n",
       "</div>"
      ],
      "text/plain": [
       "   children  days_employed  dob_years            education  education_id  \\\n",
       "0         1   -8437.673028         42    bachelor's degree             0   \n",
       "1         1   -4024.803754         36  secondary education             1   \n",
       "2         0   -5623.422610         33  Secondary Education             1   \n",
       "3         3   -4124.747207         32  secondary education             1   \n",
       "4         0  340266.072047         53  secondary education             1   \n",
       "\n",
       "       family_status  family_status_id gender income_type  debt  total_income  \\\n",
       "0            married                 0      F    employee     0     40620.102   \n",
       "1            married                 0      F    employee     0     17932.802   \n",
       "2            married                 0      M    employee     0     23341.752   \n",
       "3            married                 0      M    employee     0     42820.568   \n",
       "4  civil partnership                 1      F     retiree     0     25378.572   \n",
       "\n",
       "                   purpose  \n",
       "0    purchase of the house  \n",
       "1             car purchase  \n",
       "2    purchase of the house  \n",
       "3  supplementary education  \n",
       "4        to have a wedding  "
      ]
     },
     "execution_count": 613,
     "metadata": {},
     "output_type": "execute_result"
    }
   ],
   "source": [
    "df.head()"
   ]
  },
  {
   "cell_type": "markdown",
   "id": "516d2685",
   "metadata": {},
   "source": [
    "## Exploracion de los Datos"
   ]
  },
  {
   "cell_type": "code",
   "execution_count": 614,
   "id": "6589e601",
   "metadata": {},
   "outputs": [
    {
     "name": "stdout",
     "output_type": "stream",
     "text": [
      "<class 'pandas.core.frame.DataFrame'>\n",
      "RangeIndex: 21525 entries, 0 to 21524\n",
      "Data columns (total 12 columns):\n",
      " #   Column            Non-Null Count  Dtype  \n",
      "---  ------            --------------  -----  \n",
      " 0   children          21525 non-null  int64  \n",
      " 1   days_employed     19351 non-null  float64\n",
      " 2   dob_years         21525 non-null  int64  \n",
      " 3   education         21525 non-null  object \n",
      " 4   education_id      21525 non-null  int64  \n",
      " 5   family_status     21525 non-null  object \n",
      " 6   family_status_id  21525 non-null  int64  \n",
      " 7   gender            21525 non-null  object \n",
      " 8   income_type       21525 non-null  object \n",
      " 9   debt              21525 non-null  int64  \n",
      " 10  total_income      19351 non-null  float64\n",
      " 11  purpose           21525 non-null  object \n",
      "dtypes: float64(2), int64(5), object(5)\n",
      "memory usage: 2.0+ MB\n"
     ]
    }
   ],
   "source": [
    "df.info()"
   ]
  },
  {
   "cell_type": "code",
   "execution_count": 615,
   "id": "5b2a526d",
   "metadata": {},
   "outputs": [
    {
     "name": "stdout",
     "output_type": "stream",
     "text": [
      "days_employed    2174\n",
      "total_income     2174\n",
      "dtype: int64\n"
     ]
    }
   ],
   "source": [
    "valores_ausentes = df[['days_employed', 'total_income']].isna().sum()\n",
    "print(valores_ausentes)"
   ]
  },
  {
   "cell_type": "code",
   "execution_count": 616,
   "id": "f7bf084a",
   "metadata": {},
   "outputs": [
    {
     "data": {
      "text/html": [
       "<div>\n",
       "<style scoped>\n",
       "    .dataframe tbody tr th:only-of-type {\n",
       "        vertical-align: middle;\n",
       "    }\n",
       "\n",
       "    .dataframe tbody tr th {\n",
       "        vertical-align: top;\n",
       "    }\n",
       "\n",
       "    .dataframe thead th {\n",
       "        text-align: right;\n",
       "    }\n",
       "</style>\n",
       "<table border=\"1\" class=\"dataframe\">\n",
       "  <thead>\n",
       "    <tr style=\"text-align: right;\">\n",
       "      <th></th>\n",
       "      <th>children</th>\n",
       "      <th>days_employed</th>\n",
       "      <th>dob_years</th>\n",
       "      <th>education</th>\n",
       "      <th>education_id</th>\n",
       "      <th>family_status</th>\n",
       "      <th>family_status_id</th>\n",
       "      <th>gender</th>\n",
       "      <th>income_type</th>\n",
       "      <th>debt</th>\n",
       "      <th>total_income</th>\n",
       "      <th>purpose</th>\n",
       "    </tr>\n",
       "  </thead>\n",
       "  <tbody>\n",
       "    <tr>\n",
       "      <th>12</th>\n",
       "      <td>0</td>\n",
       "      <td>NaN</td>\n",
       "      <td>65</td>\n",
       "      <td>secondary education</td>\n",
       "      <td>1</td>\n",
       "      <td>civil partnership</td>\n",
       "      <td>1</td>\n",
       "      <td>M</td>\n",
       "      <td>retiree</td>\n",
       "      <td>0</td>\n",
       "      <td>NaN</td>\n",
       "      <td>to have a wedding</td>\n",
       "    </tr>\n",
       "    <tr>\n",
       "      <th>26</th>\n",
       "      <td>0</td>\n",
       "      <td>NaN</td>\n",
       "      <td>41</td>\n",
       "      <td>secondary education</td>\n",
       "      <td>1</td>\n",
       "      <td>married</td>\n",
       "      <td>0</td>\n",
       "      <td>M</td>\n",
       "      <td>civil servant</td>\n",
       "      <td>0</td>\n",
       "      <td>NaN</td>\n",
       "      <td>education</td>\n",
       "    </tr>\n",
       "    <tr>\n",
       "      <th>29</th>\n",
       "      <td>0</td>\n",
       "      <td>NaN</td>\n",
       "      <td>63</td>\n",
       "      <td>secondary education</td>\n",
       "      <td>1</td>\n",
       "      <td>unmarried</td>\n",
       "      <td>4</td>\n",
       "      <td>F</td>\n",
       "      <td>retiree</td>\n",
       "      <td>0</td>\n",
       "      <td>NaN</td>\n",
       "      <td>building a real estate</td>\n",
       "    </tr>\n",
       "    <tr>\n",
       "      <th>41</th>\n",
       "      <td>0</td>\n",
       "      <td>NaN</td>\n",
       "      <td>50</td>\n",
       "      <td>secondary education</td>\n",
       "      <td>1</td>\n",
       "      <td>married</td>\n",
       "      <td>0</td>\n",
       "      <td>F</td>\n",
       "      <td>civil servant</td>\n",
       "      <td>0</td>\n",
       "      <td>NaN</td>\n",
       "      <td>second-hand car purchase</td>\n",
       "    </tr>\n",
       "    <tr>\n",
       "      <th>55</th>\n",
       "      <td>0</td>\n",
       "      <td>NaN</td>\n",
       "      <td>54</td>\n",
       "      <td>secondary education</td>\n",
       "      <td>1</td>\n",
       "      <td>civil partnership</td>\n",
       "      <td>1</td>\n",
       "      <td>F</td>\n",
       "      <td>retiree</td>\n",
       "      <td>1</td>\n",
       "      <td>NaN</td>\n",
       "      <td>to have a wedding</td>\n",
       "    </tr>\n",
       "  </tbody>\n",
       "</table>\n",
       "</div>"
      ],
      "text/plain": [
       "    children  days_employed  dob_years            education  education_id  \\\n",
       "12         0            NaN         65  secondary education             1   \n",
       "26         0            NaN         41  secondary education             1   \n",
       "29         0            NaN         63  secondary education             1   \n",
       "41         0            NaN         50  secondary education             1   \n",
       "55         0            NaN         54  secondary education             1   \n",
       "\n",
       "        family_status  family_status_id gender    income_type  debt  \\\n",
       "12  civil partnership                 1      M        retiree     0   \n",
       "26            married                 0      M  civil servant     0   \n",
       "29          unmarried                 4      F        retiree     0   \n",
       "41            married                 0      F  civil servant     0   \n",
       "55  civil partnership                 1      F        retiree     1   \n",
       "\n",
       "    total_income                   purpose  \n",
       "12           NaN         to have a wedding  \n",
       "26           NaN                 education  \n",
       "29           NaN    building a real estate  \n",
       "41           NaN  second-hand car purchase  \n",
       "55           NaN         to have a wedding  "
      ]
     },
     "execution_count": 616,
     "metadata": {},
     "output_type": "execute_result"
    }
   ],
   "source": [
    "df_nulos = df[(df['days_employed'].isna()) & (df['total_income'].isna())]\n",
    "df_nulos.head()"
   ]
  },
  {
   "cell_type": "code",
   "execution_count": 617,
   "id": "cc48576f",
   "metadata": {},
   "outputs": [
    {
     "name": "stdout",
     "output_type": "stream",
     "text": [
      "10.099883855981417\n",
      "10.099883855981417\n"
     ]
    }
   ],
   "source": [
    "promedio_ausentes_days_employed = df['days_employed'].isna().mean()*100\n",
    "promedio_ausentes_total_income = df['total_income'].isna().mean()*100\n",
    "\n",
    "print(promedio_ausentes_days_employed)\n",
    "print(promedio_ausentes_total_income)"
   ]
  },
  {
   "cell_type": "markdown",
   "id": "707fd384",
   "metadata": {},
   "source": [
    "Llegado a este punto podemos concluir lo siguiente, tenemos un df con 12 columnas, de las cuales 9 columnas aparantemente tienen los datos completos, y en dos columnas que son **days_employed**, **total_income** tenemos 2174 datos NaN, hasta este punto contamos que tienen una correlacion muy fuerte estas columnas puesto que faltan la misma cantidad de filas. Ahora dejemos los valores nulos y evaluemos la calidad de los datos en las 11 columnas de nuestrto df."
   ]
  },
  {
   "cell_type": "code",
   "execution_count": 618,
   "id": "ba2a4628",
   "metadata": {},
   "outputs": [
    {
     "name": "stdout",
     "output_type": "stream",
     "text": [
      "Valores unicos en la columna children:\n",
      "1\n",
      "0\n",
      "3\n",
      "2\n",
      "-1\n",
      "4\n",
      "20\n",
      "5\n",
      "\n",
      "\n",
      "Valores unicos en la columna dob_years:\n",
      "42\n",
      "36\n",
      "33\n",
      "32\n",
      "53\n",
      "27\n",
      "43\n",
      "50\n",
      "35\n",
      "41\n",
      "40\n",
      "65\n",
      "54\n",
      "56\n",
      "26\n",
      "48\n",
      "24\n",
      "21\n",
      "57\n",
      "67\n",
      "28\n",
      "63\n",
      "62\n",
      "47\n",
      "34\n",
      "68\n",
      "25\n",
      "31\n",
      "30\n",
      "20\n",
      "49\n",
      "37\n",
      "45\n",
      "61\n",
      "64\n",
      "44\n",
      "52\n",
      "46\n",
      "23\n",
      "38\n",
      "39\n",
      "51\n",
      "0\n",
      "59\n",
      "29\n",
      "60\n",
      "55\n",
      "58\n",
      "71\n",
      "22\n",
      "73\n",
      "66\n",
      "69\n",
      "19\n",
      "72\n",
      "70\n",
      "74\n",
      "75\n",
      "\n",
      "\n",
      "Valores unicos en la columna education:\n",
      "bachelor's degree\n",
      "secondary education\n",
      "Secondary Education\n",
      "SECONDARY EDUCATION\n",
      "BACHELOR'S DEGREE\n",
      "some college\n",
      "primary education\n",
      "Bachelor's Degree\n",
      "SOME COLLEGE\n",
      "Some College\n",
      "PRIMARY EDUCATION\n",
      "Primary Education\n",
      "Graduate Degree\n",
      "GRADUATE DEGREE\n",
      "graduate degree\n",
      "\n",
      "\n",
      "Valores unicos en la columna family_status:\n",
      "married\n",
      "civil partnership\n",
      "widow / widower\n",
      "divorced\n",
      "unmarried\n",
      "\n",
      "\n",
      "Valores unicos en la columna gender:\n",
      "F\n",
      "M\n",
      "XNA\n",
      "\n",
      "\n",
      "Valores unicos en la columna income_type:\n",
      "employee\n",
      "retiree\n",
      "business\n",
      "civil servant\n",
      "unemployed\n",
      "entrepreneur\n",
      "student\n",
      "paternity / maternity leave\n",
      "\n",
      "\n",
      "Valores unicos en la columna purpose:\n",
      "purchase of the house\n",
      "car purchase\n",
      "supplementary education\n",
      "to have a wedding\n",
      "housing transactions\n",
      "education\n",
      "having a wedding\n",
      "purchase of the house for my family\n",
      "buy real estate\n",
      "buy commercial real estate\n",
      "buy residential real estate\n",
      "construction of own property\n",
      "property\n",
      "building a property\n",
      "buying a second-hand car\n",
      "buying my own car\n",
      "transactions with commercial real estate\n",
      "building a real estate\n",
      "housing\n",
      "transactions with my real estate\n",
      "cars\n",
      "to become educated\n",
      "second-hand car purchase\n",
      "getting an education\n",
      "car\n",
      "wedding ceremony\n",
      "to get a supplementary education\n",
      "purchase of my own house\n",
      "real estate transactions\n",
      "getting higher education\n",
      "to own a car\n",
      "purchase of a car\n",
      "profile education\n",
      "university education\n",
      "buying property for renting out\n",
      "to buy a car\n",
      "housing renovation\n",
      "going to university\n",
      "\n",
      "\n"
     ]
    }
   ],
   "source": [
    "lista_columnas_categoricas = ['children', 'dob_years', 'education', \n",
    "                 'family_status', 'gender', 'income_type',\n",
    "                 'purpose']\n",
    "\n",
    "for columna in lista_columnas:\n",
    "    valores_unicos = df[columna].unique()\n",
    "    print(f'Valores unicos en la columna {columna}:')\n",
    "    for valor in valores_unicos:\n",
    "        print(f'{valor}')\n",
    "    print('\\n')"
   ]
  },
  {
   "cell_type": "code",
   "execution_count": 619,
   "id": "22834fd4",
   "metadata": {},
   "outputs": [
    {
     "name": "stdout",
     "output_type": "stream",
     "text": [
      "count     19351.000000\n",
      "mean      63046.497661\n",
      "std      140827.311974\n",
      "min      -18388.949901\n",
      "25%       -2747.423625\n",
      "50%       -1203.369529\n",
      "75%        -291.095954\n",
      "max      401755.400475\n",
      "Name: days_employed, dtype: float64\n",
      "\n",
      "\n",
      "count    21525.000000\n",
      "mean         0.080883\n",
      "std          0.272661\n",
      "min          0.000000\n",
      "25%          0.000000\n",
      "50%          0.000000\n",
      "75%          0.000000\n",
      "max          1.000000\n",
      "Name: debt, dtype: float64\n",
      "\n",
      "\n",
      "count     19351.000000\n",
      "mean      26787.568355\n",
      "std       16475.450632\n",
      "min        3306.762000\n",
      "25%       16488.504500\n",
      "50%       23202.870000\n",
      "75%       32549.611000\n",
      "max      362496.645000\n",
      "Name: total_income, dtype: float64\n",
      "\n",
      "\n"
     ]
    }
   ],
   "source": [
    "lista_columnas_cuantitativas = ['days_employed', 'debt', 'total_income']\n",
    "\n",
    "for columna in lista_columnas_cuantitativas:\n",
    "    valores = df[columna].describe()\n",
    "    print(f'{valores}')\n",
    "    print('\\n')"
   ]
  },
  {
   "cell_type": "markdown",
   "id": "075f3e52",
   "metadata": {},
   "source": [
    "Después de conocer los valores ausentes en nuestro df, queremos saber como se encuentran los datos y llegamos a la siguiente conclusión, en los tipos de datos son correctos a excepcion de la columna **days_employed** esta columna se debe convertir de float a int, las demas columnas sus tipos de datos son correctos.\n",
    "\n",
    "Para la columnas categoricas utilizamos el metodo unique para saber mas acerca de ellas, se pudo encontrar lo siguiente: en la columna **children** tenemos valores de -1 y de 20, estos valores no son proporcionales y se tendra que evaluarlos a detalle.\n",
    "\n",
    "Para la columna **dob_years** vemos que es dificil entenderla asi que vamos a tener que modificar esta columna agrupando las edades para que sea mas entendible su lectura de esta columna.\n",
    "\n",
    "Para la columna **education** vemos filas repetidas y una escritura de mayusculas y minisculas, se tendra que resolver esta situacion.\n",
    "\n",
    "Para la columna **family_status** podemos encontrar que la informacion de las filas tienen espacios de mas lo cual se tiene que corregir.\n",
    "\n",
    "Para la columna **gender** hay un genero que no es conocido, se tendra que sustuir ese valor.\n",
    "\n",
    "Para la columna **income_type** se tiene que corregir la escritura presenta espacios de mas.\n",
    "\n",
    "Para la columna **purpose** se tiene que hacer un diccionario nuevo con las claves sin repetir, ya que muchas filas se repiten.\n",
    "\n",
    "Para la columna **days_employeed** muchos datos estan en numeros negativos a parte de que tiene valores faltantes.\n",
    "\n",
    "Para la columnas **debt** y **total_income** se observa todo bien, sigamos adelante."
   ]
  },
  {
   "cell_type": "code",
   "execution_count": 620,
   "id": "c79be169",
   "metadata": {},
   "outputs": [
    {
     "name": "stdout",
     "output_type": "stream",
     "text": [
      "children\n",
      "children\n",
      " 0     0.657329\n",
      " 1     0.223833\n",
      " 2     0.095470\n",
      " 3     0.015331\n",
      " 20    0.003531\n",
      "-1     0.002184\n",
      " 4     0.001905\n",
      " 5     0.000418\n",
      "Name: proportion, dtype: float64\n",
      "\n",
      "dob_years\n",
      "dob_years\n",
      "35    0.028664\n",
      "40    0.028293\n",
      "41    0.028200\n",
      "34    0.028014\n",
      "38    0.027782\n",
      "42    0.027735\n",
      "33    0.026992\n",
      "39    0.026620\n",
      "31    0.026016\n",
      "36    0.025784\n",
      "44    0.025412\n",
      "29    0.025319\n",
      "30    0.025087\n",
      "48    0.024994\n",
      "37    0.024948\n",
      "50    0.023879\n",
      "43    0.023833\n",
      "32    0.023693\n",
      "49    0.023600\n",
      "28    0.023368\n",
      "45    0.023089\n",
      "27    0.022904\n",
      "56    0.022625\n",
      "52    0.022485\n",
      "47    0.022300\n",
      "54    0.022253\n",
      "46    0.022067\n",
      "58    0.021417\n",
      "57    0.021370\n",
      "53    0.021324\n",
      "51    0.020813\n",
      "59    0.020627\n",
      "55    0.020581\n",
      "26    0.018955\n",
      "60    0.017515\n",
      "25    0.016585\n",
      "61    0.016492\n",
      "62    0.016353\n",
      "63    0.012497\n",
      "64    0.012311\n",
      "24    0.012265\n",
      "23    0.011800\n",
      "65    0.009013\n",
      "22    0.008502\n",
      "66    0.008502\n",
      "67    0.007758\n",
      "21    0.005157\n",
      "0     0.004692\n",
      "68    0.004599\n",
      "69    0.003949\n",
      "70    0.003020\n",
      "71    0.002695\n",
      "20    0.002369\n",
      "72    0.001533\n",
      "19    0.000650\n",
      "73    0.000372\n",
      "74    0.000279\n",
      "75    0.000046\n",
      "Name: proportion, dtype: float64\n",
      "\n",
      "education\n",
      "education\n",
      "secondary education    0.638792\n",
      "bachelor's degree      0.219187\n",
      "SECONDARY EDUCATION    0.035865\n",
      "Secondary Education    0.033031\n",
      "some college           0.031034\n",
      "BACHELOR'S DEGREE      0.012729\n",
      "Bachelor's Degree      0.012451\n",
      "primary education      0.011614\n",
      "Some College           0.002184\n",
      "SOME COLLEGE           0.001347\n",
      "PRIMARY EDUCATION      0.000790\n",
      "Primary Education      0.000697\n",
      "graduate degree        0.000186\n",
      "Graduate Degree        0.000046\n",
      "GRADUATE DEGREE        0.000046\n",
      "Name: proportion, dtype: float64\n",
      "\n",
      "family_status\n",
      "family_status\n",
      "married              0.575145\n",
      "civil partnership    0.194053\n",
      "unmarried            0.130685\n",
      "divorced             0.055517\n",
      "widow / widower      0.044599\n",
      "Name: proportion, dtype: float64\n",
      "\n",
      "gender\n",
      "gender\n",
      "F      0.661370\n",
      "M      0.338583\n",
      "XNA    0.000046\n",
      "Name: proportion, dtype: float64\n",
      "\n",
      "income_type\n",
      "income_type\n",
      "employee                       0.516562\n",
      "business                       0.236237\n",
      "retiree                        0.179141\n",
      "civil servant                  0.067782\n",
      "unemployed                     0.000093\n",
      "entrepreneur                   0.000093\n",
      "student                        0.000046\n",
      "paternity / maternity leave    0.000046\n",
      "Name: proportion, dtype: float64\n",
      "\n",
      "purpose\n",
      "purpose\n",
      "wedding ceremony                            0.037027\n",
      "having a wedding                            0.036098\n",
      "to have a wedding                           0.035958\n",
      "real estate transactions                    0.031405\n",
      "buy commercial real estate                  0.030848\n",
      "buying property for renting out             0.030337\n",
      "housing transactions                        0.030337\n",
      "transactions with commercial real estate    0.030244\n",
      "purchase of the house                       0.030058\n",
      "housing                                     0.030058\n",
      "purchase of the house for my family         0.029779\n",
      "construction of own property                0.029501\n",
      "property                                    0.029454\n",
      "transactions with my real estate            0.029268\n",
      "building a real estate                      0.029082\n",
      "buy real estate                             0.028990\n",
      "building a property                         0.028804\n",
      "purchase of my own house                    0.028804\n",
      "housing renovation                          0.028432\n",
      "buy residential real estate                 0.028200\n",
      "buying my own car                           0.023461\n",
      "going to university                         0.023043\n",
      "car                                         0.022997\n",
      "second-hand car purchase                    0.022718\n",
      "to own a car                                0.022300\n",
      "buying a second-hand car                    0.022253\n",
      "cars                                        0.022207\n",
      "to buy a car                                0.021928\n",
      "supplementary education                     0.021463\n",
      "car purchase                                0.021463\n",
      "purchase of a car                           0.021138\n",
      "university education                        0.021045\n",
      "education                                   0.020767\n",
      "to get a supplementary education            0.020767\n",
      "getting an education                        0.020581\n",
      "profile education                           0.020256\n",
      "getting higher education                    0.019791\n",
      "to become educated                          0.019141\n",
      "Name: proportion, dtype: float64\n",
      "\n",
      "days_employed\n",
      "days_employed\n",
      "-8437.673028      0.000052\n",
      "-3507.818775      0.000052\n",
      " 354500.415854    0.000052\n",
      "-769.717438       0.000052\n",
      "-3963.590317      0.000052\n",
      "                    ...   \n",
      "-1099.957609      0.000052\n",
      "-209.984794       0.000052\n",
      " 398099.392433    0.000052\n",
      "-1271.038880      0.000052\n",
      "-1984.507589      0.000052\n",
      "Name: proportion, Length: 19351, dtype: float64\n",
      "\n",
      "debt\n",
      "debt\n",
      "0    0.919117\n",
      "1    0.080883\n",
      "Name: proportion, dtype: float64\n",
      "\n",
      "total_income\n",
      "total_income\n",
      "17312.717    0.000103\n",
      "42413.096    0.000103\n",
      "31791.384    0.000103\n",
      "21005.772    0.000052\n",
      "18591.443    0.000052\n",
      "               ...   \n",
      "27020.895    0.000052\n",
      "23686.835    0.000052\n",
      "9606.294     0.000052\n",
      "28156.762    0.000052\n",
      "13127.587    0.000052\n",
      "Name: proportion, Length: 19348, dtype: float64\n",
      "\n"
     ]
    }
   ],
   "source": [
    "columnas = ['children', 'dob_years', 'education', \n",
    "                 'family_status', 'gender', 'income_type',\n",
    "                 'purpose', 'days_employed', 'debt', 'total_income']\n",
    "\n",
    "for col in columnas:\n",
    "    print(col)\n",
    "    print(df[col].value_counts(normalize=True))\n",
    "    print()"
   ]
  },
  {
   "cell_type": "markdown",
   "id": "0966407b",
   "metadata": {},
   "source": [
    "Con esta normalizacion podemos darnos cuenta del porcentaje total de cada fila en las diferentes columnas de nuestro df. Para analizar el impacto de los datos faltantes en nuestro conjunto de datos, realizaremos un Análisis de Sensibilidad. Primero, crearemos un nuevo DataFrame excluyendo todas las filas que contienen al menos un valor faltante. Esto nos dejará con un conjunto de datos completo, aunque más pequeño. Luego compararemos las distribuciones de las variables en el conjunto de datos original y el nuevo conjunto de datos. Esto se hará normalizando los datos y comparando las distribuciones para cada variable en ambos conjuntos de datos. La diferencia en las distribuciones normalizadas nos proporcionará información sobre el impacto de los datos faltantes en nuestro análisis."
   ]
  },
  {
   "cell_type": "code",
   "execution_count": 621,
   "id": "e78422ca",
   "metadata": {},
   "outputs": [
    {
     "name": "stdout",
     "output_type": "stream",
     "text": [
      "<class 'pandas.core.frame.DataFrame'>\n",
      "Index: 19351 entries, 0 to 21524\n",
      "Data columns (total 12 columns):\n",
      " #   Column            Non-Null Count  Dtype  \n",
      "---  ------            --------------  -----  \n",
      " 0   children          19351 non-null  int64  \n",
      " 1   days_employed     19351 non-null  float64\n",
      " 2   dob_years         19351 non-null  int64  \n",
      " 3   education         19351 non-null  object \n",
      " 4   education_id      19351 non-null  int64  \n",
      " 5   family_status     19351 non-null  object \n",
      " 6   family_status_id  19351 non-null  int64  \n",
      " 7   gender            19351 non-null  object \n",
      " 8   income_type       19351 non-null  object \n",
      " 9   debt              19351 non-null  int64  \n",
      " 10  total_income      19351 non-null  float64\n",
      " 11  purpose           19351 non-null  object \n",
      "dtypes: float64(2), int64(5), object(5)\n",
      "memory usage: 1.9+ MB\n"
     ]
    }
   ],
   "source": [
    "df_sin_nan = df.dropna()\n",
    "df_sin_nan.info()"
   ]
  },
  {
   "cell_type": "code",
   "execution_count": 622,
   "id": "47513e7d",
   "metadata": {},
   "outputs": [
    {
     "name": "stdout",
     "output_type": "stream",
     "text": [
      "children\n",
      " 0     0.000515\n",
      " 1    -0.000600\n",
      " 2    -0.000184\n",
      " 3     0.000138\n",
      " 20    0.000068\n",
      "-1    -0.000090\n",
      " 4     0.000148\n",
      " 5     0.000005\n",
      "Name: proportion, dtype: float64\n",
      "\n",
      "dob_years\n",
      "0    -0.000010\n",
      "19   -0.000021\n",
      "20   -0.000008\n",
      "21    0.000351\n",
      "22   -0.000077\n",
      "23    0.000535\n",
      "24   -0.000293\n",
      "25   -0.000675\n",
      "26   -0.000321\n",
      "27   -0.000713\n",
      "28    0.000320\n",
      "29   -0.000261\n",
      "30    0.000179\n",
      "31    0.000436\n",
      "32   -0.000750\n",
      "33   -0.000397\n",
      "34    0.000418\n",
      "35    0.000087\n",
      "36    0.000359\n",
      "37   -0.000064\n",
      "38   -0.000331\n",
      "39   -0.000355\n",
      "40    0.000232\n",
      "41   -0.000119\n",
      "42    0.000243\n",
      "43   -0.000094\n",
      "44   -0.000581\n",
      "45   -0.000010\n",
      "46    0.000001\n",
      "47    0.000544\n",
      "48   -0.000431\n",
      "49   -0.000068\n",
      "50   -0.000047\n",
      "51    0.000246\n",
      "52    0.000213\n",
      "53   -0.000122\n",
      "54    0.000342\n",
      "55    0.000168\n",
      "56    0.000249\n",
      "57    0.000493\n",
      "58    0.000488\n",
      "59   -0.000560\n",
      "60    0.000048\n",
      "61    0.000111\n",
      "62    0.000127\n",
      "63    0.000095\n",
      "64    0.000529\n",
      "65    0.000021\n",
      "66    0.000078\n",
      "67   -0.000045\n",
      "68   -0.000052\n",
      "69   -0.000185\n",
      "70   -0.000184\n",
      "71   -0.000044\n",
      "72   -0.000069\n",
      "73    0.000010\n",
      "74   -0.000031\n",
      "75   -0.000005\n",
      "Name: proportion, dtype: float64\n",
      "\n",
      "education\n",
      "secondary education    0.000996\n",
      "bachelor's degree      0.001007\n",
      "SECONDARY EDUCATION   -0.000567\n",
      "Secondary Education   -0.000352\n",
      "some college          -0.000644\n",
      "BACHELOR'S DEGREE     -0.000242\n",
      "Bachelor's Degree     -0.000107\n",
      "primary education     -0.000323\n",
      "Some College           0.000116\n",
      "SOME COLLEGE           0.000210\n",
      "PRIMARY EDUCATION     -0.000037\n",
      "Primary Education     -0.000027\n",
      "graduate degree       -0.000021\n",
      "Graduate Degree       -0.000005\n",
      "GRADUATE DEGREE       -0.000005\n",
      "Name: proportion, dtype: float64\n",
      "\n",
      "family_status\n",
      "married             -0.000691\n",
      "civil partnership    0.001040\n",
      "unmarried            0.000201\n",
      "divorced            -0.000449\n",
      "widow / widower     -0.000101\n",
      "Name: proportion, dtype: float64\n",
      "\n",
      "gender\n",
      "F      0.002386\n",
      "M     -0.002381\n",
      "XNA   -0.000005\n",
      "Name: proportion, dtype: float64\n",
      "\n",
      "income_type\n",
      "business                      -0.000288\n",
      "civil servant                 -0.000018\n",
      "employee                      -0.000930\n",
      "entrepreneur                   0.000041\n",
      "paternity / maternity leave   -0.000005\n",
      "retiree                        0.001217\n",
      "student                       -0.000005\n",
      "unemployed                    -0.000010\n",
      "Name: proportion, dtype: float64\n",
      "\n",
      "purpose\n",
      "building a property                        -0.000187\n",
      "building a real estate                     -0.000890\n",
      "buy commercial real estate                 -0.000003\n",
      "buy real estate                             0.000464\n",
      "buy residential real estate                -0.000016\n",
      "buying a second-hand car                   -0.000330\n",
      "buying my own car                           0.000103\n",
      "buying property for renting out            -0.000049\n",
      "car                                        -0.000465\n",
      "car purchase                               -0.000189\n",
      "cars                                        0.000451\n",
      "construction of own property                0.000562\n",
      "education                                  -0.000163\n",
      "getting an education                        0.000272\n",
      "getting higher education                   -0.000363\n",
      "going to university                         0.000305\n",
      "having a wedding                            0.000699\n",
      "housing                                    -0.000276\n",
      "housing renovation                          0.000423\n",
      "housing transactions                        0.000416\n",
      "profile education                           0.000153\n",
      "property                                   -0.000105\n",
      "purchase of a car                           0.000002\n",
      "purchase of my own house                   -0.000859\n",
      "purchase of the house                      -0.000690\n",
      "purchase of the house for my family         0.000323\n",
      "real estate transactions                   -0.000376\n",
      "second-hand car purchase                    0.000238\n",
      "supplementary education                     0.000069\n",
      "to become educated                          0.000692\n",
      "to buy a car                               -0.000913\n",
      "to get a supplementary education            0.000302\n",
      "to have a wedding                           0.000146\n",
      "to own a car                                0.000182\n",
      "transactions with commercial real estate    0.000220\n",
      "transactions with my real estate            0.000381\n",
      "university education                       -0.000297\n",
      "wedding ceremony                           -0.000232\n",
      "Name: proportion, dtype: float64\n",
      "\n",
      "days_employed\n",
      "-8437.673028      0.0\n",
      "-3507.818775      0.0\n",
      " 354500.415854    0.0\n",
      "-769.717438       0.0\n",
      "-3963.590317      0.0\n",
      "                 ... \n",
      "-1099.957609      0.0\n",
      "-209.984794       0.0\n",
      " 398099.392433    0.0\n",
      "-1271.038880      0.0\n",
      "-1984.507589      0.0\n",
      "Name: proportion, Length: 19351, dtype: float64\n",
      "\n",
      "debt\n",
      "0    0.000302\n",
      "1   -0.000302\n",
      "Name: proportion, dtype: float64\n",
      "\n",
      "total_income\n",
      "17312.717    0.0\n",
      "42413.096    0.0\n",
      "31791.384    0.0\n",
      "21005.772    0.0\n",
      "18591.443    0.0\n",
      "            ... \n",
      "27020.895    0.0\n",
      "23686.835    0.0\n",
      "9606.294     0.0\n",
      "28156.762    0.0\n",
      "13127.587    0.0\n",
      "Name: proportion, Length: 19348, dtype: float64\n",
      "\n"
     ]
    }
   ],
   "source": [
    "columnas = ['children', 'dob_years', 'education', \n",
    "                 'family_status', 'gender', 'income_type',\n",
    "                 'purpose', 'days_employed', 'debt', 'total_income']\n",
    "for col in columnas:\n",
    "    diferencia = df[col].value_counts(normalize=True) - df_sin_nan[col].value_counts(normalize=True)\n",
    "    print(diferencia)\n",
    "    print()"
   ]
  },
  {
   "cell_type": "markdown",
   "id": "1d505946",
   "metadata": {},
   "source": [
    "Después de realizar un Análisis de Sensibilidad sobre nuestro conjunto de datos, observamos que la eliminación de filas con valores faltantes tiene un impacto mínimo en la distribución de nuestras variables. Comparando las distribuciones normalizadas de cada variable en el DataFrame original y el DataFrame sin valores nulos, las diferencias son insignificantes. Hemos terminado la parte de exploracion de los datos pasemos ahora a la siguiente parte."
   ]
  },
  {
   "cell_type": "markdown",
   "id": "fe99479a",
   "metadata": {},
   "source": [
    "## Tranformación de los Datos"
   ]
  },
  {
   "cell_type": "markdown",
   "id": "2ca3eeff",
   "metadata": {},
   "source": [
    "A continuación, haremos un recorrido por cada columna, en donde evaluemos que se necesitan corregir la escritura, duplicados o valores extraños se corregirán, encontraremos estos valores a corregir utilizando el método unique, posteriormente nos enfocaremos en los valores ausentes."
   ]
  },
  {
   "cell_type": "code",
   "execution_count": 623,
   "id": "b725ab66",
   "metadata": {
    "scrolled": true
   },
   "outputs": [
    {
     "name": "stdout",
     "output_type": "stream",
     "text": [
      "<class 'pandas.core.frame.DataFrame'>\n",
      "RangeIndex: 21525 entries, 0 to 21524\n",
      "Data columns (total 12 columns):\n",
      " #   Column            Non-Null Count  Dtype  \n",
      "---  ------            --------------  -----  \n",
      " 0   children          21525 non-null  int64  \n",
      " 1   days_employed     19351 non-null  float64\n",
      " 2   dob_years         21525 non-null  int64  \n",
      " 3   education         21525 non-null  object \n",
      " 4   education_id      21525 non-null  int64  \n",
      " 5   family_status     21525 non-null  object \n",
      " 6   family_status_id  21525 non-null  int64  \n",
      " 7   gender            21525 non-null  object \n",
      " 8   income_type       21525 non-null  object \n",
      " 9   debt              21525 non-null  int64  \n",
      " 10  total_income      19351 non-null  float64\n",
      " 11  purpose           21525 non-null  object \n",
      "dtypes: float64(2), int64(5), object(5)\n",
      "memory usage: 2.0+ MB\n"
     ]
    }
   ],
   "source": [
    "df.info()"
   ]
  },
  {
   "cell_type": "markdown",
   "id": "cdfa3f94",
   "metadata": {},
   "source": [
    "<font color='#191970' size='4'><b>Columna Children</b></font>"
   ]
  },
  {
   "cell_type": "markdown",
   "id": "f0c261b5",
   "metadata": {},
   "source": [
    "Se tiene una hipótesis que hubo en error al cargar los numeros, sospechamos que en lugar de 20 hijos es 2 y en lugar de -1 hijo es 1 hijo, pero para comprobar esta idea que se tiene, vamos a observar la columna **total_income** obtendremos su mediana de ambos df filtrados, tambien nos ayudaremos de la columna **family_status** con estas observaciones podremos ver si nuestra hipotesis es factible de utilizar."
   ]
  },
  {
   "cell_type": "code",
   "execution_count": 624,
   "id": "5c463224",
   "metadata": {},
   "outputs": [],
   "source": [
    "df_children_20 = df[df['children'] == 20]\n",
    "df_children_menos_1 = df[df['children'] == -1]\n",
    "df_children_2 = df[df['children'] == 2]\n",
    "df_children_1 = df[df['children'] == 1]"
   ]
  },
  {
   "cell_type": "code",
   "execution_count": 625,
   "id": "783fa08f",
   "metadata": {},
   "outputs": [
    {
     "name": "stdout",
     "output_type": "stream",
     "text": [
      "La mediana de de total income de 20 hijos es de:  23127.125\n",
      "Los primeros 4 puestos de family status de 20 hijos es de:  Index(['married', 'civil partnership', 'unmarried', 'widow / widower'], dtype='object', name='family_status')\n"
     ]
    }
   ],
   "source": [
    "# Evaluacion del df de 20 hijos\n",
    "print('La mediana de de total income de 20 hijos es de: ', df_children_20['total_income'].median())\n",
    "print('Los primeros 4 puestos de family status de 20 hijos es de: ', df_children_20['family_status'].value_counts().index[0:4])"
   ]
  },
  {
   "cell_type": "code",
   "execution_count": 626,
   "id": "193ea303",
   "metadata": {},
   "outputs": [
    {
     "name": "stdout",
     "output_type": "stream",
     "text": [
      "La mediana de de total income de 2 hijos es de:  23143.77\n",
      "Los primeros 4 puestos de family status de 2 hijos es de:  Index(['married', 'civil partnership', 'divorced', 'unmarried'], dtype='object', name='family_status')\n"
     ]
    }
   ],
   "source": [
    "# Evaluacion del df de 2 hijos\n",
    "print('La mediana de de total income de 2 hijos es de: ', df_children_2['total_income'].median())\n",
    "print('Los primeros 4 puestos de family status de 2 hijos es de: ', df_children_2['family_status'].value_counts().index[0:4])"
   ]
  },
  {
   "cell_type": "code",
   "execution_count": 627,
   "id": "be3c33cf",
   "metadata": {},
   "outputs": [
    {
     "name": "stdout",
     "output_type": "stream",
     "text": [
      "La mediana de de total income de -1 hijo es de:  23086.907\n",
      "Los primeros 4 puestos de family status de -1 hijo es de:  Index(['married', 'civil partnership', 'unmarried', 'divorced'], dtype='object', name='family_status')\n"
     ]
    }
   ],
   "source": [
    "# Evaluacion del df de -1 hijos\n",
    "print('La mediana de de total income de -1 hijo es de: ', df_children_menos_1['total_income'].median())\n",
    "print('Los primeros 4 puestos de family status de -1 hijo es de: ', df_children_menos_1['family_status'].value_counts().index[0:4])"
   ]
  },
  {
   "cell_type": "code",
   "execution_count": 628,
   "id": "97137be9",
   "metadata": {},
   "outputs": [
    {
     "name": "stdout",
     "output_type": "stream",
     "text": [
      "La mediana de de total income de 1 hijo es de:  23670.884\n",
      "Los primeros 4 puestos de family status de 1 hijo es de:  Index(['married', 'civil partnership', 'unmarried', 'divorced'], dtype='object', name='family_status')\n"
     ]
    }
   ],
   "source": [
    "# Evaluacion del df de 1 hijo\n",
    "print('La mediana de de total income de 1 hijo es de: ', df_children_1['total_income'].median())\n",
    "print('Los primeros 4 puestos de family status de 1 hijo es de: ', df_children_1['family_status'].value_counts().index[0:4])"
   ]
  },
  {
   "cell_type": "markdown",
   "id": "b9c62b58",
   "metadata": {},
   "source": [
    "Podemos concluir en base a lo observado que lo que pensamos es correcto, el promedio y los 4 primeros lugaes en **family_status** coicide a grandes razgos, por lo tanto vamos a ocupar replace para sustuir estos valores de 20 y -1."
   ]
  },
  {
   "cell_type": "code",
   "execution_count": 629,
   "id": "3e24da7b",
   "metadata": {},
   "outputs": [],
   "source": [
    "df['children'] = df['children'].replace(20, 2)\n",
    "df['children'] = df['children'].replace(-1, 1)"
   ]
  },
  {
   "cell_type": "code",
   "execution_count": 630,
   "id": "49950d8e",
   "metadata": {},
   "outputs": [
    {
     "data": {
      "text/plain": [
       "array([1, 0, 3, 2, 4, 5], dtype=int64)"
      ]
     },
     "execution_count": 630,
     "metadata": {},
     "output_type": "execute_result"
    }
   ],
   "source": [
    "df['children'].unique()"
   ]
  },
  {
   "cell_type": "markdown",
   "id": "e8339216",
   "metadata": {},
   "source": [
    "<font color='#191970' size='4'><b>Columna Days Employed</b></font>"
   ]
  },
  {
   "cell_type": "code",
   "execution_count": 631,
   "id": "b766d7ff",
   "metadata": {},
   "outputs": [
    {
     "data": {
      "text/plain": [
       "count     19351.000000\n",
       "mean      63046.497661\n",
       "std      140827.311974\n",
       "min      -18388.949901\n",
       "25%       -2747.423625\n",
       "50%       -1203.369529\n",
       "75%        -291.095954\n",
       "max      401755.400475\n",
       "Name: days_employed, dtype: float64"
      ]
     },
     "execution_count": 631,
     "metadata": {},
     "output_type": "execute_result"
    }
   ],
   "source": [
    "df['days_employed'].describe()"
   ]
  },
  {
   "cell_type": "markdown",
   "id": "b51d9b67",
   "metadata": {},
   "source": [
    "Esta columna es una donde tenemos los valores ausentes, a primera vista observamos que tiene numeros negativos, lo cual claramente es un error, tenemos primero que saber cuantos valores positivos y negativos tenemos, despues lo numeros negativos convertirlos a entero y asi poder entender la forma de rellenar los valores NaN."
   ]
  },
  {
   "cell_type": "code",
   "execution_count": 632,
   "id": "c8a99f02",
   "metadata": {},
   "outputs": [
    {
     "name": "stdout",
     "output_type": "stream",
     "text": [
      "children            3445\n",
      "days_employed       3445\n",
      "dob_years           3445\n",
      "education           3445\n",
      "education_id        3445\n",
      "family_status       3445\n",
      "family_status_id    3445\n",
      "gender              3445\n",
      "income_type         3445\n",
      "debt                3445\n",
      "total_income        3445\n",
      "purpose             3445\n",
      "dtype: int64\n",
      "\n",
      "children            15906\n",
      "days_employed       15906\n",
      "dob_years           15906\n",
      "education           15906\n",
      "education_id        15906\n",
      "family_status       15906\n",
      "family_status_id    15906\n",
      "gender              15906\n",
      "income_type         15906\n",
      "debt                15906\n",
      "total_income        15906\n",
      "purpose             15906\n",
      "dtype: int64\n"
     ]
    }
   ],
   "source": [
    "valores_postivos = df[df['days_employed'] >= 0].count()\n",
    "valores_negativos = df[df['days_employed'] < 0].count()\n",
    "print(valores_postivos)\n",
    "print()\n",
    "print(valores_negativos)"
   ]
  },
  {
   "cell_type": "code",
   "execution_count": 633,
   "id": "142e9586",
   "metadata": {},
   "outputs": [],
   "source": [
    "df['days_employed'] = df['days_employed'].abs()"
   ]
  },
  {
   "cell_type": "code",
   "execution_count": 634,
   "id": "9d88d1c5",
   "metadata": {},
   "outputs": [
    {
     "name": "stdout",
     "output_type": "stream",
     "text": [
      "children            0\n",
      "days_employed       0\n",
      "dob_years           0\n",
      "education           0\n",
      "education_id        0\n",
      "family_status       0\n",
      "family_status_id    0\n",
      "gender              0\n",
      "income_type         0\n",
      "debt                0\n",
      "total_income        0\n",
      "purpose             0\n",
      "dtype: int64\n"
     ]
    }
   ],
   "source": [
    "valores_negativos = df[df['days_employed'] < 0].count()\n",
    "print(valores_negativos)"
   ]
  },
  {
   "cell_type": "markdown",
   "id": "cb646db2",
   "metadata": {},
   "source": [
    "Cuando hicimos un describe de **days_employed** vimos que que habia valores demasiado altos de mas de 400 000 dias trabajados, cifras como estas superan definitivamente la esperanza de vida de un ser humano, trataremos de ser lo mas razonable posible y pondremos un límite de 50 años que son 1250 días como límite en nuestro proyecto, las filas que se encuentren con valores mayores a 18 250 en days_employed seán sustituidos con el promedio, de esta forma no tendremos valores atipicos muy altos. Crearemos un BoxPlot para dejar mas claro esto."
   ]
  },
  {
   "cell_type": "code",
   "execution_count": 635,
   "id": "7332ac87",
   "metadata": {},
   "outputs": [
    {
     "name": "stderr",
     "output_type": "stream",
     "text": [
      "C:\\Users\\Albert\\AppData\\Roaming\\Python\\Python311\\site-packages\\seaborn\\_oldcore.py:1498: FutureWarning: is_categorical_dtype is deprecated and will be removed in a future version. Use isinstance(dtype, CategoricalDtype) instead\n",
      "  if pd.api.types.is_categorical_dtype(vector):\n"
     ]
    },
    {
     "data": {
      "image/png": "[encoded data removed]",
      "text/plain": [
       "<Figure size 800x700 with 1 Axes>"
      ]
     },
     "metadata": {},
     "output_type": "display_data"
    }
   ],
   "source": [
    "plt.figure(figsize=(8, 7))\n",
    "sns.boxplot(data=df, y='days_employed')\n",
    "plt.show()"
   ]
  },
  {
   "cell_type": "code",
   "execution_count": 636,
   "id": "462a619c",
   "metadata": {},
   "outputs": [
    {
     "name": "stdout",
     "output_type": "stream",
     "text": [
      "2352.0076997468445\n",
      "3446\n"
     ]
    }
   ],
   "source": [
    "valores_atipicos_mean = df.loc[df['days_employed'] < 18250, 'days_employed'].mean()\n",
    "valores_atipicos_count = df.loc[df['days_employed'] > 18250, 'days_employed'].count()\n",
    "print(valores_atipicos)\n",
    "print(valores_atipicos_count)"
   ]
  },
  {
   "cell_type": "code",
   "execution_count": 637,
   "id": "b4387607",
   "metadata": {},
   "outputs": [],
   "source": [
    "df['days_employed'] = np.where(df['days_employed'] > 18250, np.nan, df['days_employed'])"
   ]
  },
  {
   "cell_type": "markdown",
   "id": "74b17d2f",
   "metadata": {},
   "source": [
    "Se ha concluido de analizar y soluccionar el problema con los datos extremadamente altos en **days_employed** lo que se realizara a continuacion sera convertir esto valores atipicos a NaN, de esta forma cuando hagamos el analisis para rellenarlos en base a otras columnas del df estos ouliers sean tratados."
   ]
  },
  {
   "cell_type": "markdown",
   "id": "d2c03839",
   "metadata": {},
   "source": [
    "<font color='#191970' size='4'><b>Columna Dob Years</b></font>"
   ]
  },
  {
   "cell_type": "code",
   "execution_count": 638,
   "id": "0608eeb1",
   "metadata": {},
   "outputs": [
    {
     "data": {
      "text/plain": [
       "array([42, 36, 33, 32, 53, 27, 43, 50, 35, 41, 40, 65, 54, 56, 26, 48, 24,\n",
       "       21, 57, 67, 28, 63, 62, 47, 34, 68, 25, 31, 30, 20, 49, 37, 45, 61,\n",
       "       64, 44, 52, 46, 23, 38, 39, 51,  0, 59, 29, 60, 55, 58, 71, 22, 73,\n",
       "       66, 69, 19, 72, 70, 74, 75], dtype=int64)"
      ]
     },
     "execution_count": 638,
     "metadata": {},
     "output_type": "execute_result"
    }
   ],
   "source": [
    "df['dob_years'].unique()"
   ]
  },
  {
   "cell_type": "markdown",
   "id": "d925e604",
   "metadata": {},
   "source": [
    "Como es dificil evaluar esta columna, lo mejor sera segmentarla por rangos, para esto ocuparemos la funcion cut de pandas, lo cual es una poderosa funcion."
   ]
  },
  {
   "cell_type": "code",
   "execution_count": 639,
   "id": "8b9b7c5c",
   "metadata": {},
   "outputs": [],
   "source": [
    "bins = [-1, 18, 25, 30, 40, 50 , 60, float('inf')]\n",
    "labels = ['<=18', '19-25', '26-30', '31-40', '41-50', '51-60', 'retired']\n",
    "df['dob_years'] = pd.cut(df['dob_years'], bins=bins, labels=labels)"
   ]
  },
  {
   "cell_type": "markdown",
   "id": "f1ceb268",
   "metadata": {},
   "source": [
    "<font color='#191970' size='4'><b>Columna Education</b></font>"
   ]
  },
  {
   "cell_type": "code",
   "execution_count": 640,
   "id": "6e239d39",
   "metadata": {},
   "outputs": [
    {
     "data": {
      "text/plain": [
       "array([\"bachelor's degree\", 'secondary education', 'Secondary Education',\n",
       "       'SECONDARY EDUCATION', \"BACHELOR'S DEGREE\", 'some college',\n",
       "       'primary education', \"Bachelor's Degree\", 'SOME COLLEGE',\n",
       "       'Some College', 'PRIMARY EDUCATION', 'Primary Education',\n",
       "       'Graduate Degree', 'GRADUATE DEGREE', 'graduate degree'],\n",
       "      dtype=object)"
      ]
     },
     "execution_count": 640,
     "metadata": {},
     "output_type": "execute_result"
    }
   ],
   "source": [
    "df['education'].unique()"
   ]
  },
  {
   "cell_type": "code",
   "execution_count": 641,
   "id": "b6ea1b03",
   "metadata": {},
   "outputs": [],
   "source": [
    "df['education'] = df['education'].str.lower().str.strip()"
   ]
  },
  {
   "cell_type": "code",
   "execution_count": 642,
   "id": "2eac4fe0",
   "metadata": {
    "scrolled": true
   },
   "outputs": [
    {
     "data": {
      "text/plain": [
       "array([\"bachelor's degree\", 'secondary education', 'some college',\n",
       "       'primary education', 'graduate degree'], dtype=object)"
      ]
     },
     "execution_count": 642,
     "metadata": {},
     "output_type": "execute_result"
    }
   ],
   "source": [
    "df['education'].unique()"
   ]
  },
  {
   "cell_type": "markdown",
   "id": "75ddaa39",
   "metadata": {},
   "source": [
    "<font color='#191970' size='4'><b>Columna Family_Status</b></font>"
   ]
  },
  {
   "cell_type": "code",
   "execution_count": 643,
   "id": "895a20c3",
   "metadata": {},
   "outputs": [
    {
     "data": {
      "text/plain": [
       "array(['married', 'civil partnership', 'widow / widower', 'divorced',\n",
       "       'unmarried'], dtype=object)"
      ]
     },
     "execution_count": 643,
     "metadata": {},
     "output_type": "execute_result"
    }
   ],
   "source": [
    "df['family_status'].unique()"
   ]
  },
  {
   "cell_type": "code",
   "execution_count": 644,
   "id": "87e06590",
   "metadata": {},
   "outputs": [],
   "source": [
    "df['family_status'] = df['family_status'].str.strip().str.replace(' / ', '/')"
   ]
  },
  {
   "cell_type": "code",
   "execution_count": 645,
   "id": "7c7b7b54",
   "metadata": {
    "scrolled": true
   },
   "outputs": [
    {
     "data": {
      "text/plain": [
       "array(['married', 'civil partnership', 'widow/widower', 'divorced',\n",
       "       'unmarried'], dtype=object)"
      ]
     },
     "execution_count": 645,
     "metadata": {},
     "output_type": "execute_result"
    }
   ],
   "source": [
    "df['family_status'].unique()"
   ]
  },
  {
   "cell_type": "markdown",
   "id": "ddab1469",
   "metadata": {},
   "source": [
    "<font color='#191970' size='4'><b>Columna Gender</b></font>"
   ]
  },
  {
   "cell_type": "code",
   "execution_count": 646,
   "id": "3d0e9537",
   "metadata": {},
   "outputs": [
    {
     "data": {
      "text/plain": [
       "array(['F', 'M', 'XNA'], dtype=object)"
      ]
     },
     "execution_count": 646,
     "metadata": {},
     "output_type": "execute_result"
    }
   ],
   "source": [
    "df['gender'].unique()"
   ]
  },
  {
   "cell_type": "code",
   "execution_count": 647,
   "id": "e32511a5",
   "metadata": {},
   "outputs": [
    {
     "data": {
      "text/plain": [
       "1"
      ]
     },
     "execution_count": 647,
     "metadata": {},
     "output_type": "execute_result"
    }
   ],
   "source": [
    "valor_xna = df['gender'].value_counts().get('XNA')\n",
    "valor_xna"
   ]
  },
  {
   "cell_type": "code",
   "execution_count": 648,
   "id": "f5b686df",
   "metadata": {},
   "outputs": [
    {
     "data": {
      "text/plain": [
       "count     21525\n",
       "unique        3\n",
       "top           F\n",
       "freq      14236\n",
       "Name: gender, dtype: object"
      ]
     },
     "execution_count": 648,
     "metadata": {},
     "output_type": "execute_result"
    }
   ],
   "source": [
    "df['gender'].describe()"
   ]
  },
  {
   "cell_type": "code",
   "execution_count": 649,
   "id": "630bac6f",
   "metadata": {},
   "outputs": [],
   "source": [
    "df['gender'] = df['gender'].replace('XNA', 'F')\n",
    "df['gender'] = df['gender'].str.lower()"
   ]
  },
  {
   "cell_type": "code",
   "execution_count": 650,
   "id": "72fea5e9",
   "metadata": {
    "scrolled": true
   },
   "outputs": [
    {
     "data": {
      "text/plain": [
       "array(['f', 'm'], dtype=object)"
      ]
     },
     "execution_count": 650,
     "metadata": {},
     "output_type": "execute_result"
    }
   ],
   "source": [
    "df['gender'].unique()"
   ]
  },
  {
   "cell_type": "markdown",
   "id": "091601f0",
   "metadata": {},
   "source": [
    "<font color='#191970' size='4'><b>Columna Income_Type</b></font>"
   ]
  },
  {
   "cell_type": "code",
   "execution_count": 651,
   "id": "d8510fa6",
   "metadata": {},
   "outputs": [
    {
     "data": {
      "text/plain": [
       "array(['employee', 'retiree', 'business', 'civil servant', 'unemployed',\n",
       "       'entrepreneur', 'student', 'paternity / maternity leave'],\n",
       "      dtype=object)"
      ]
     },
     "execution_count": 651,
     "metadata": {},
     "output_type": "execute_result"
    }
   ],
   "source": [
    "df['income_type'].unique()"
   ]
  },
  {
   "cell_type": "code",
   "execution_count": 652,
   "id": "b936c3ad",
   "metadata": {},
   "outputs": [],
   "source": [
    "df['income_type'] = df['income_type'].str.replace(' / ', '/')"
   ]
  },
  {
   "cell_type": "code",
   "execution_count": 653,
   "id": "9990f553",
   "metadata": {
    "scrolled": false
   },
   "outputs": [
    {
     "data": {
      "text/plain": [
       "array(['employee', 'retiree', 'business', 'civil servant', 'unemployed',\n",
       "       'entrepreneur', 'student', 'paternity/maternity leave'],\n",
       "      dtype=object)"
      ]
     },
     "execution_count": 653,
     "metadata": {},
     "output_type": "execute_result"
    }
   ],
   "source": [
    "df['income_type'].unique()"
   ]
  },
  {
   "cell_type": "markdown",
   "id": "ccfc0f34",
   "metadata": {},
   "source": [
    "<font color='#191970' size='4'><b>Columna Total Income</b></font>"
   ]
  },
  {
   "cell_type": "code",
   "execution_count": 654,
   "id": "b894ce17",
   "metadata": {},
   "outputs": [
    {
     "data": {
      "text/plain": [
       "count     19351.000000\n",
       "mean      26787.568355\n",
       "std       16475.450632\n",
       "min        3306.762000\n",
       "25%       16488.504500\n",
       "50%       23202.870000\n",
       "75%       32549.611000\n",
       "max      362496.645000\n",
       "Name: total_income, dtype: float64"
      ]
     },
     "execution_count": 654,
     "metadata": {},
     "output_type": "execute_result"
    }
   ],
   "source": [
    "df['total_income'].describe()"
   ]
  },
  {
   "cell_type": "markdown",
   "id": "06ee622c",
   "metadata": {},
   "source": [
    "En esta columna tenemos valores ausentes, tendremos que trabajar en ellos en la parte de valores ausentes."
   ]
  },
  {
   "cell_type": "markdown",
   "id": "9562e48f",
   "metadata": {},
   "source": [
    "<font color='#191970' size='4'><b>Columna Purpose</b></font>"
   ]
  },
  {
   "cell_type": "code",
   "execution_count": 655,
   "id": "539e3901",
   "metadata": {},
   "outputs": [
    {
     "data": {
      "text/plain": [
       "array(['purchase of the house', 'car purchase', 'supplementary education',\n",
       "       'to have a wedding', 'housing transactions', 'education',\n",
       "       'having a wedding', 'purchase of the house for my family',\n",
       "       'buy real estate', 'buy commercial real estate',\n",
       "       'buy residential real estate', 'construction of own property',\n",
       "       'property', 'building a property', 'buying a second-hand car',\n",
       "       'buying my own car', 'transactions with commercial real estate',\n",
       "       'building a real estate', 'housing',\n",
       "       'transactions with my real estate', 'cars', 'to become educated',\n",
       "       'second-hand car purchase', 'getting an education', 'car',\n",
       "       'wedding ceremony', 'to get a supplementary education',\n",
       "       'purchase of my own house', 'real estate transactions',\n",
       "       'getting higher education', 'to own a car', 'purchase of a car',\n",
       "       'profile education', 'university education',\n",
       "       'buying property for renting out', 'to buy a car',\n",
       "       'housing renovation', 'going to university'], dtype=object)"
      ]
     },
     "execution_count": 655,
     "metadata": {},
     "output_type": "execute_result"
    }
   ],
   "source": [
    "df['purpose'].unique()"
   ]
  },
  {
   "cell_type": "code",
   "execution_count": 656,
   "id": "90c31f63",
   "metadata": {},
   "outputs": [],
   "source": [
    "df['purpose'] = df['purpose'].str.lower().str.strip()"
   ]
  },
  {
   "cell_type": "code",
   "execution_count": 657,
   "id": "81b61001",
   "metadata": {},
   "outputs": [
    {
     "data": {
      "text/plain": [
       "array(['purchase of the house', 'car purchase', 'supplementary education',\n",
       "       'to have a wedding', 'housing transactions', 'education',\n",
       "       'having a wedding', 'purchase of the house for my family',\n",
       "       'buy real estate', 'buy commercial real estate',\n",
       "       'buy residential real estate', 'construction of own property',\n",
       "       'property', 'building a property', 'buying a second-hand car',\n",
       "       'buying my own car', 'transactions with commercial real estate',\n",
       "       'building a real estate', 'housing',\n",
       "       'transactions with my real estate', 'cars', 'to become educated',\n",
       "       'second-hand car purchase', 'getting an education', 'car',\n",
       "       'wedding ceremony', 'to get a supplementary education',\n",
       "       'purchase of my own house', 'real estate transactions',\n",
       "       'getting higher education', 'to own a car', 'purchase of a car',\n",
       "       'profile education', 'university education',\n",
       "       'buying property for renting out', 'to buy a car',\n",
       "       'housing renovation', 'going to university'], dtype=object)"
      ]
     },
     "execution_count": 657,
     "metadata": {},
     "output_type": "execute_result"
    }
   ],
   "source": [
    "df['purpose'].unique()"
   ]
  },
  {
   "cell_type": "code",
   "execution_count": 658,
   "id": "30c12287",
   "metadata": {},
   "outputs": [],
   "source": [
    "# Definir un diccionario para mapear los valores actuales a nuevas categorías\n",
    "purpose_mapping = {\n",
    "    'purchase of the house': 'house_purchase',\n",
    "    'car purchase': 'car_purchase',\n",
    "    'supplementary education': 'education',\n",
    "    'to have a wedding': 'wedding',\n",
    "    'housing transactions': 'housing',\n",
    "    'education': 'education',\n",
    "    'having a wedding': 'wedding',\n",
    "    'purchase of the house for my family': 'house_purchase',\n",
    "    'buy real estate': 'real_estate_purchase',\n",
    "    'buy commercial real estate': 'real_estate_purchase',\n",
    "    'buy residential real estate': 'real_estate_purchase',\n",
    "    'construction of own property': 'property_construction',\n",
    "    'property': 'property',\n",
    "    'building a property': 'property_construction',\n",
    "    'buying a second-hand car': 'car_purchase',\n",
    "    'buying my own car': 'car_purchase',\n",
    "    'transactions with commercial real estate': 'real_estate_transaction',\n",
    "    'building a real estate': 'real_estate_construction',\n",
    "    'housing': 'housing',\n",
    "    'transactions with my real estate': 'real_estate_transaction',\n",
    "    'cars': 'car',\n",
    "    'to become educated': 'education',\n",
    "    'second-hand car purchase': 'car_purchase',\n",
    "    'getting an education': 'education',\n",
    "    'car': 'car',\n",
    "    'wedding ceremony': 'wedding',\n",
    "    'to get a supplementary education': 'education',\n",
    "    'purchase of my own house': 'house_purchase',\n",
    "    'real estate transactions': 'real_estate_transaction',\n",
    "    'getting higher education': 'education',\n",
    "    'to own a car': 'car_purchase',\n",
    "    'purchase of a car': 'car_purchase',\n",
    "    'profile education': 'education',\n",
    "    'university education': 'education',\n",
    "    'buying property for renting out': 'real_estate_purchase',\n",
    "    'to buy a car': 'car_purchase',\n",
    "    'housing renovation': 'housing',\n",
    "    'going to university': 'education'\n",
    "}\n",
    "\n",
    "# Utilizar el diccionario para reemplazar los valores en la columna 'purpose'\n",
    "df['purpose'] = df['purpose'].map(purpose_mapping)"
   ]
  },
  {
   "cell_type": "code",
   "execution_count": 659,
   "id": "462cd580",
   "metadata": {},
   "outputs": [
    {
     "data": {
      "text/plain": [
       "array(['house_purchase', 'car_purchase', 'education', 'wedding',\n",
       "       'housing', 'real_estate_purchase', 'property_construction',\n",
       "       'property', 'real_estate_transaction', 'real_estate_construction',\n",
       "       'car'], dtype=object)"
      ]
     },
     "execution_count": 659,
     "metadata": {},
     "output_type": "execute_result"
    }
   ],
   "source": [
    "df['purpose'].unique()"
   ]
  },
  {
   "cell_type": "markdown",
   "id": "5be2b35c",
   "metadata": {},
   "source": [
    "Después de analizar a detalle los datos cambiamos algunas filas de las columnas del df, a grandes razgos estuvimos accediendo a las cadenas mediante str y con lower reemplazamos a minusculas, también nos ayudo el método replacepaqra eliminar espacios en medio de palabras, en la columna **purpose** se creó un diciconario con claves mas claras para agrupar propositos repetidos, despues mediante el metodo map sustuimos los valores."
   ]
  },
  {
   "cell_type": "markdown",
   "id": "4801753d",
   "metadata": {},
   "source": [
    "<font color='#191970' size='4'><b>Valores Duplicados</b></font>"
   ]
  },
  {
   "cell_type": "code",
   "execution_count": 660,
   "id": "624e4370",
   "metadata": {},
   "outputs": [
    {
     "data": {
      "text/plain": [
       "818"
      ]
     },
     "execution_count": 660,
     "metadata": {},
     "output_type": "execute_result"
    }
   ],
   "source": [
    "df.duplicated().sum()"
   ]
  },
  {
   "cell_type": "code",
   "execution_count": 661,
   "id": "6cc342f7",
   "metadata": {},
   "outputs": [],
   "source": [
    "df = df.drop_duplicates().reset_index(drop = True)"
   ]
  },
  {
   "cell_type": "code",
   "execution_count": 662,
   "id": "e8a07412",
   "metadata": {},
   "outputs": [
    {
     "data": {
      "text/plain": [
       "0"
      ]
     },
     "execution_count": 662,
     "metadata": {},
     "output_type": "execute_result"
    }
   ],
   "source": [
    "df.duplicated().sum()"
   ]
  },
  {
   "cell_type": "code",
   "execution_count": 663,
   "id": "d71bd3df",
   "metadata": {},
   "outputs": [
    {
     "name": "stdout",
     "output_type": "stream",
     "text": [
      "<class 'pandas.core.frame.DataFrame'>\n",
      "RangeIndex: 20707 entries, 0 to 20706\n",
      "Data columns (total 12 columns):\n",
      " #   Column            Non-Null Count  Dtype   \n",
      "---  ------            --------------  -----   \n",
      " 0   children          20707 non-null  int64   \n",
      " 1   days_employed     15905 non-null  float64 \n",
      " 2   dob_years         20707 non-null  category\n",
      " 3   education         20707 non-null  object  \n",
      " 4   education_id      20707 non-null  int64   \n",
      " 5   family_status     20707 non-null  object  \n",
      " 6   family_status_id  20707 non-null  int64   \n",
      " 7   gender            20707 non-null  object  \n",
      " 8   income_type       20707 non-null  object  \n",
      " 9   debt              20707 non-null  int64   \n",
      " 10  total_income      19351 non-null  float64 \n",
      " 11  purpose           20707 non-null  object  \n",
      "dtypes: category(1), float64(2), int64(4), object(5)\n",
      "memory usage: 1.8+ MB\n"
     ]
    }
   ],
   "source": [
    "df.info()"
   ]
  },
  {
   "cell_type": "markdown",
   "id": "eda078f4",
   "metadata": {},
   "source": [
    "## Trabajar con valores ausentes"
   ]
  },
  {
   "cell_type": "markdown",
   "id": "e7eb24d6",
   "metadata": {},
   "source": [
    "### Restaurar valores en Total Income"
   ]
  },
  {
   "cell_type": "markdown",
   "id": "06e6c7e2",
   "metadata": {},
   "source": [
    "En esta parte tenemos primero que eliminar los valores ausentes de nuestro df, entonces crearemos un nuevo df donde no se incluira ningun valor nulo, en base a este nuevo df vamos a rellener los valores ausentes, además no se incluirán los valores de mas de 18250 dias trabajados, ya que esto afectaria negativamente al evitar en sesgo en nuestro df, utilizaremos un filtrado booleano para realizar esto."
   ]
  },
  {
   "cell_type": "code",
   "execution_count": 664,
   "id": "7c5e61df",
   "metadata": {},
   "outputs": [
    {
     "name": "stdout",
     "output_type": "stream",
     "text": [
      "<class 'pandas.core.frame.DataFrame'>\n",
      "Index: 15905 entries, 0 to 20706\n",
      "Data columns (total 12 columns):\n",
      " #   Column            Non-Null Count  Dtype   \n",
      "---  ------            --------------  -----   \n",
      " 0   children          15905 non-null  int64   \n",
      " 1   days_employed     15905 non-null  float64 \n",
      " 2   dob_years         15905 non-null  category\n",
      " 3   education         15905 non-null  object  \n",
      " 4   education_id      15905 non-null  int64   \n",
      " 5   family_status     15905 non-null  object  \n",
      " 6   family_status_id  15905 non-null  int64   \n",
      " 7   gender            15905 non-null  object  \n",
      " 8   income_type       15905 non-null  object  \n",
      " 9   debt              15905 non-null  int64   \n",
      " 10  total_income      15905 non-null  float64 \n",
      " 11  purpose           15905 non-null  object  \n",
      "dtypes: category(1), float64(2), int64(4), object(5)\n",
      "memory usage: 1.5+ MB\n"
     ]
    }
   ],
   "source": [
    "df_sin_nan = df.dropna()[df.dropna() ['days_employed'] < 18250]\n",
    "df_sin_nan.info()"
   ]
  },
  {
   "cell_type": "code",
   "execution_count": 665,
   "id": "fb1b5381",
   "metadata": {},
   "outputs": [
    {
     "data": {
      "text/html": [
       "<div>\n",
       "<style scoped>\n",
       "    .dataframe tbody tr th:only-of-type {\n",
       "        vertical-align: middle;\n",
       "    }\n",
       "\n",
       "    .dataframe tbody tr th {\n",
       "        vertical-align: top;\n",
       "    }\n",
       "\n",
       "    .dataframe thead th {\n",
       "        text-align: right;\n",
       "    }\n",
       "</style>\n",
       "<table border=\"1\" class=\"dataframe\">\n",
       "  <thead>\n",
       "    <tr style=\"text-align: right;\">\n",
       "      <th></th>\n",
       "      <th>children</th>\n",
       "      <th>days_employed</th>\n",
       "      <th>dob_years</th>\n",
       "      <th>education</th>\n",
       "      <th>education_id</th>\n",
       "      <th>family_status</th>\n",
       "      <th>family_status_id</th>\n",
       "      <th>gender</th>\n",
       "      <th>income_type</th>\n",
       "      <th>debt</th>\n",
       "      <th>total_income</th>\n",
       "      <th>purpose</th>\n",
       "    </tr>\n",
       "  </thead>\n",
       "  <tbody>\n",
       "    <tr>\n",
       "      <th>0</th>\n",
       "      <td>1</td>\n",
       "      <td>8437.673028</td>\n",
       "      <td>41-50</td>\n",
       "      <td>bachelor's degree</td>\n",
       "      <td>0</td>\n",
       "      <td>married</td>\n",
       "      <td>0</td>\n",
       "      <td>f</td>\n",
       "      <td>employee</td>\n",
       "      <td>0</td>\n",
       "      <td>40620.102</td>\n",
       "      <td>house_purchase</td>\n",
       "    </tr>\n",
       "    <tr>\n",
       "      <th>1</th>\n",
       "      <td>1</td>\n",
       "      <td>4024.803754</td>\n",
       "      <td>31-40</td>\n",
       "      <td>secondary education</td>\n",
       "      <td>1</td>\n",
       "      <td>married</td>\n",
       "      <td>0</td>\n",
       "      <td>f</td>\n",
       "      <td>employee</td>\n",
       "      <td>0</td>\n",
       "      <td>17932.802</td>\n",
       "      <td>car_purchase</td>\n",
       "    </tr>\n",
       "    <tr>\n",
       "      <th>2</th>\n",
       "      <td>0</td>\n",
       "      <td>5623.422610</td>\n",
       "      <td>31-40</td>\n",
       "      <td>secondary education</td>\n",
       "      <td>1</td>\n",
       "      <td>married</td>\n",
       "      <td>0</td>\n",
       "      <td>m</td>\n",
       "      <td>employee</td>\n",
       "      <td>0</td>\n",
       "      <td>23341.752</td>\n",
       "      <td>house_purchase</td>\n",
       "    </tr>\n",
       "    <tr>\n",
       "      <th>3</th>\n",
       "      <td>3</td>\n",
       "      <td>4124.747207</td>\n",
       "      <td>31-40</td>\n",
       "      <td>secondary education</td>\n",
       "      <td>1</td>\n",
       "      <td>married</td>\n",
       "      <td>0</td>\n",
       "      <td>m</td>\n",
       "      <td>employee</td>\n",
       "      <td>0</td>\n",
       "      <td>42820.568</td>\n",
       "      <td>education</td>\n",
       "    </tr>\n",
       "    <tr>\n",
       "      <th>5</th>\n",
       "      <td>0</td>\n",
       "      <td>926.185831</td>\n",
       "      <td>26-30</td>\n",
       "      <td>bachelor's degree</td>\n",
       "      <td>0</td>\n",
       "      <td>civil partnership</td>\n",
       "      <td>1</td>\n",
       "      <td>m</td>\n",
       "      <td>business</td>\n",
       "      <td>0</td>\n",
       "      <td>40922.170</td>\n",
       "      <td>house_purchase</td>\n",
       "    </tr>\n",
       "  </tbody>\n",
       "</table>\n",
       "</div>"
      ],
      "text/plain": [
       "   children  days_employed dob_years            education  education_id  \\\n",
       "0         1    8437.673028     41-50    bachelor's degree             0   \n",
       "1         1    4024.803754     31-40  secondary education             1   \n",
       "2         0    5623.422610     31-40  secondary education             1   \n",
       "3         3    4124.747207     31-40  secondary education             1   \n",
       "5         0     926.185831     26-30    bachelor's degree             0   \n",
       "\n",
       "       family_status  family_status_id gender income_type  debt  total_income  \\\n",
       "0            married                 0      f    employee     0     40620.102   \n",
       "1            married                 0      f    employee     0     17932.802   \n",
       "2            married                 0      m    employee     0     23341.752   \n",
       "3            married                 0      m    employee     0     42820.568   \n",
       "5  civil partnership                 1      m    business     0     40922.170   \n",
       "\n",
       "          purpose  \n",
       "0  house_purchase  \n",
       "1    car_purchase  \n",
       "2  house_purchase  \n",
       "3       education  \n",
       "5  house_purchase  "
      ]
     },
     "execution_count": 665,
     "metadata": {},
     "output_type": "execute_result"
    }
   ],
   "source": [
    "df_sin_nan.head()"
   ]
  },
  {
   "cell_type": "code",
   "execution_count": 666,
   "id": "14084d52",
   "metadata": {},
   "outputs": [
    {
     "data": {
      "text/html": [
       "<div>\n",
       "<style scoped>\n",
       "    .dataframe tbody tr th:only-of-type {\n",
       "        vertical-align: middle;\n",
       "    }\n",
       "\n",
       "    .dataframe tbody tr th {\n",
       "        vertical-align: top;\n",
       "    }\n",
       "\n",
       "    .dataframe thead th {\n",
       "        text-align: right;\n",
       "    }\n",
       "</style>\n",
       "<table border=\"1\" class=\"dataframe\">\n",
       "  <thead>\n",
       "    <tr style=\"text-align: right;\">\n",
       "      <th></th>\n",
       "      <th>dob_years</th>\n",
       "      <th>&lt;=18</th>\n",
       "      <th>19-25</th>\n",
       "      <th>26-30</th>\n",
       "      <th>31-40</th>\n",
       "      <th>41-50</th>\n",
       "      <th>51-60</th>\n",
       "      <th>retired</th>\n",
       "    </tr>\n",
       "    <tr>\n",
       "      <th>gender</th>\n",
       "      <th>education</th>\n",
       "      <th></th>\n",
       "      <th></th>\n",
       "      <th></th>\n",
       "      <th></th>\n",
       "      <th></th>\n",
       "      <th></th>\n",
       "      <th></th>\n",
       "    </tr>\n",
       "  </thead>\n",
       "  <tbody>\n",
       "    <tr>\n",
       "      <th rowspan=\"5\" valign=\"top\">f</th>\n",
       "      <th>bachelor's degree</th>\n",
       "      <td>24867.3015</td>\n",
       "      <td>21477.9765</td>\n",
       "      <td>25277.6890</td>\n",
       "      <td>26612.410</td>\n",
       "      <td>27631.7065</td>\n",
       "      <td>28700.9075</td>\n",
       "      <td>27969.0405</td>\n",
       "    </tr>\n",
       "    <tr>\n",
       "      <th>graduate degree</th>\n",
       "      <td>NaN</td>\n",
       "      <td>NaN</td>\n",
       "      <td>NaN</td>\n",
       "      <td>17822.757</td>\n",
       "      <td>NaN</td>\n",
       "      <td>NaN</td>\n",
       "      <td>NaN</td>\n",
       "    </tr>\n",
       "    <tr>\n",
       "      <th>primary education</th>\n",
       "      <td>NaN</td>\n",
       "      <td>17781.3660</td>\n",
       "      <td>19507.1640</td>\n",
       "      <td>18195.089</td>\n",
       "      <td>21859.4680</td>\n",
       "      <td>15518.3460</td>\n",
       "      <td>27561.4865</td>\n",
       "    </tr>\n",
       "    <tr>\n",
       "      <th>secondary education</th>\n",
       "      <td>17587.7440</td>\n",
       "      <td>17665.9835</td>\n",
       "      <td>19175.7910</td>\n",
       "      <td>20798.609</td>\n",
       "      <td>21001.8680</td>\n",
       "      <td>21635.3815</td>\n",
       "      <td>22772.2330</td>\n",
       "    </tr>\n",
       "    <tr>\n",
       "      <th>some college</th>\n",
       "      <td>20519.4630</td>\n",
       "      <td>19636.5115</td>\n",
       "      <td>21435.1590</td>\n",
       "      <td>25564.948</td>\n",
       "      <td>29661.7065</td>\n",
       "      <td>26247.2875</td>\n",
       "      <td>33793.1560</td>\n",
       "    </tr>\n",
       "    <tr>\n",
       "      <th rowspan=\"5\" valign=\"top\">m</th>\n",
       "      <th>bachelor's degree</th>\n",
       "      <td>33861.6755</td>\n",
       "      <td>27220.0380</td>\n",
       "      <td>33475.2905</td>\n",
       "      <td>33744.504</td>\n",
       "      <td>35017.2470</td>\n",
       "      <td>35202.4675</td>\n",
       "      <td>31984.6160</td>\n",
       "    </tr>\n",
       "    <tr>\n",
       "      <th>graduate degree</th>\n",
       "      <td>NaN</td>\n",
       "      <td>NaN</td>\n",
       "      <td>NaN</td>\n",
       "      <td>18551.846</td>\n",
       "      <td>31771.3210</td>\n",
       "      <td>42945.7940</td>\n",
       "      <td>NaN</td>\n",
       "    </tr>\n",
       "    <tr>\n",
       "      <th>primary education</th>\n",
       "      <td>NaN</td>\n",
       "      <td>27119.0240</td>\n",
       "      <td>25710.4890</td>\n",
       "      <td>20378.750</td>\n",
       "      <td>21887.8250</td>\n",
       "      <td>23361.5090</td>\n",
       "      <td>19490.9385</td>\n",
       "    </tr>\n",
       "    <tr>\n",
       "      <th>secondary education</th>\n",
       "      <td>27856.9580</td>\n",
       "      <td>23483.5340</td>\n",
       "      <td>25152.9340</td>\n",
       "      <td>26721.578</td>\n",
       "      <td>26804.6105</td>\n",
       "      <td>24515.1370</td>\n",
       "      <td>24843.3020</td>\n",
       "    </tr>\n",
       "    <tr>\n",
       "      <th>some college</th>\n",
       "      <td>40971.2870</td>\n",
       "      <td>25571.4005</td>\n",
       "      <td>29751.2190</td>\n",
       "      <td>35745.833</td>\n",
       "      <td>30965.6450</td>\n",
       "      <td>25889.1720</td>\n",
       "      <td>36694.2720</td>\n",
       "    </tr>\n",
       "  </tbody>\n",
       "</table>\n",
       "</div>"
      ],
      "text/plain": [
       "dob_years                         <=18       19-25       26-30      31-40  \\\n",
       "gender education                                                            \n",
       "f      bachelor's degree    24867.3015  21477.9765  25277.6890  26612.410   \n",
       "       graduate degree             NaN         NaN         NaN  17822.757   \n",
       "       primary education           NaN  17781.3660  19507.1640  18195.089   \n",
       "       secondary education  17587.7440  17665.9835  19175.7910  20798.609   \n",
       "       some college         20519.4630  19636.5115  21435.1590  25564.948   \n",
       "m      bachelor's degree    33861.6755  27220.0380  33475.2905  33744.504   \n",
       "       graduate degree             NaN         NaN         NaN  18551.846   \n",
       "       primary education           NaN  27119.0240  25710.4890  20378.750   \n",
       "       secondary education  27856.9580  23483.5340  25152.9340  26721.578   \n",
       "       some college         40971.2870  25571.4005  29751.2190  35745.833   \n",
       "\n",
       "dob_years                        41-50       51-60     retired  \n",
       "gender education                                                \n",
       "f      bachelor's degree    27631.7065  28700.9075  27969.0405  \n",
       "       graduate degree             NaN         NaN         NaN  \n",
       "       primary education    21859.4680  15518.3460  27561.4865  \n",
       "       secondary education  21001.8680  21635.3815  22772.2330  \n",
       "       some college         29661.7065  26247.2875  33793.1560  \n",
       "m      bachelor's degree    35017.2470  35202.4675  31984.6160  \n",
       "       graduate degree      31771.3210  42945.7940         NaN  \n",
       "       primary education    21887.8250  23361.5090  19490.9385  \n",
       "       secondary education  26804.6105  24515.1370  24843.3020  \n",
       "       some college         30965.6450  25889.1720  36694.2720  "
      ]
     },
     "execution_count": 666,
     "metadata": {},
     "output_type": "execute_result"
    }
   ],
   "source": [
    "pivot_table_median = df_sin_nan.pivot_table(index=['gender', 'education'], columns='dob_years', values='total_income', aggfunc='median')\n",
    "pivot_table_median"
   ]
  },
  {
   "cell_type": "code",
   "execution_count": 667,
   "id": "02277fb0",
   "metadata": {},
   "outputs": [
    {
     "data": {
      "text/html": [
       "<div>\n",
       "<style scoped>\n",
       "    .dataframe tbody tr th:only-of-type {\n",
       "        vertical-align: middle;\n",
       "    }\n",
       "\n",
       "    .dataframe tbody tr th {\n",
       "        vertical-align: top;\n",
       "    }\n",
       "\n",
       "    .dataframe thead th {\n",
       "        text-align: right;\n",
       "    }\n",
       "</style>\n",
       "<table border=\"1\" class=\"dataframe\">\n",
       "  <thead>\n",
       "    <tr style=\"text-align: right;\">\n",
       "      <th></th>\n",
       "      <th>dob_years</th>\n",
       "      <th>&lt;=18</th>\n",
       "      <th>19-25</th>\n",
       "      <th>26-30</th>\n",
       "      <th>31-40</th>\n",
       "      <th>41-50</th>\n",
       "      <th>51-60</th>\n",
       "      <th>retired</th>\n",
       "    </tr>\n",
       "    <tr>\n",
       "      <th>gender</th>\n",
       "      <th>education</th>\n",
       "      <th></th>\n",
       "      <th></th>\n",
       "      <th></th>\n",
       "      <th></th>\n",
       "      <th></th>\n",
       "      <th></th>\n",
       "      <th></th>\n",
       "    </tr>\n",
       "  </thead>\n",
       "  <tbody>\n",
       "    <tr>\n",
       "      <th rowspan=\"5\" valign=\"top\">f</th>\n",
       "      <th>bachelor's degree</th>\n",
       "      <td>26717.784813</td>\n",
       "      <td>24707.061851</td>\n",
       "      <td>28605.931263</td>\n",
       "      <td>30896.240807</td>\n",
       "      <td>32296.105167</td>\n",
       "      <td>34951.969506</td>\n",
       "      <td>32772.491338</td>\n",
       "    </tr>\n",
       "    <tr>\n",
       "      <th>graduate degree</th>\n",
       "      <td>NaN</td>\n",
       "      <td>NaN</td>\n",
       "      <td>NaN</td>\n",
       "      <td>17822.757000</td>\n",
       "      <td>NaN</td>\n",
       "      <td>NaN</td>\n",
       "      <td>NaN</td>\n",
       "    </tr>\n",
       "    <tr>\n",
       "      <th>primary education</th>\n",
       "      <td>NaN</td>\n",
       "      <td>26381.103200</td>\n",
       "      <td>16665.507333</td>\n",
       "      <td>20428.717433</td>\n",
       "      <td>22444.753474</td>\n",
       "      <td>17281.376692</td>\n",
       "      <td>25740.812500</td>\n",
       "    </tr>\n",
       "    <tr>\n",
       "      <th>secondary education</th>\n",
       "      <td>21084.223387</td>\n",
       "      <td>19646.387785</td>\n",
       "      <td>21402.874494</td>\n",
       "      <td>23242.875751</td>\n",
       "      <td>23722.313800</td>\n",
       "      <td>24376.195362</td>\n",
       "      <td>27303.789967</td>\n",
       "    </tr>\n",
       "    <tr>\n",
       "      <th>some college</th>\n",
       "      <td>20519.463000</td>\n",
       "      <td>20488.639638</td>\n",
       "      <td>24846.307456</td>\n",
       "      <td>29654.062080</td>\n",
       "      <td>33826.400778</td>\n",
       "      <td>28900.295250</td>\n",
       "      <td>32065.378750</td>\n",
       "    </tr>\n",
       "    <tr>\n",
       "      <th rowspan=\"5\" valign=\"top\">m</th>\n",
       "      <th>bachelor's degree</th>\n",
       "      <td>33189.448500</td>\n",
       "      <td>29032.640594</td>\n",
       "      <td>37174.140431</td>\n",
       "      <td>40448.511559</td>\n",
       "      <td>43231.193720</td>\n",
       "      <td>41429.575880</td>\n",
       "      <td>38953.771673</td>\n",
       "    </tr>\n",
       "    <tr>\n",
       "      <th>graduate degree</th>\n",
       "      <td>NaN</td>\n",
       "      <td>NaN</td>\n",
       "      <td>NaN</td>\n",
       "      <td>18551.846000</td>\n",
       "      <td>31771.321000</td>\n",
       "      <td>42945.794000</td>\n",
       "      <td>NaN</td>\n",
       "    </tr>\n",
       "    <tr>\n",
       "      <th>primary education</th>\n",
       "      <td>NaN</td>\n",
       "      <td>27235.789800</td>\n",
       "      <td>27669.105250</td>\n",
       "      <td>22692.502205</td>\n",
       "      <td>26363.030440</td>\n",
       "      <td>21666.185714</td>\n",
       "      <td>19490.938500</td>\n",
       "    </tr>\n",
       "    <tr>\n",
       "      <th>secondary education</th>\n",
       "      <td>29833.857692</td>\n",
       "      <td>24985.427113</td>\n",
       "      <td>27517.712144</td>\n",
       "      <td>29942.312728</td>\n",
       "      <td>30505.624420</td>\n",
       "      <td>27648.416841</td>\n",
       "      <td>26109.930094</td>\n",
       "    </tr>\n",
       "    <tr>\n",
       "      <th>some college</th>\n",
       "      <td>40971.287000</td>\n",
       "      <td>28345.545172</td>\n",
       "      <td>32824.834228</td>\n",
       "      <td>35947.165785</td>\n",
       "      <td>36364.299971</td>\n",
       "      <td>35011.119308</td>\n",
       "      <td>38344.565333</td>\n",
       "    </tr>\n",
       "  </tbody>\n",
       "</table>\n",
       "</div>"
      ],
      "text/plain": [
       "dob_years                           <=18         19-25         26-30  \\\n",
       "gender education                                                       \n",
       "f      bachelor's degree    26717.784813  24707.061851  28605.931263   \n",
       "       graduate degree               NaN           NaN           NaN   \n",
       "       primary education             NaN  26381.103200  16665.507333   \n",
       "       secondary education  21084.223387  19646.387785  21402.874494   \n",
       "       some college         20519.463000  20488.639638  24846.307456   \n",
       "m      bachelor's degree    33189.448500  29032.640594  37174.140431   \n",
       "       graduate degree               NaN           NaN           NaN   \n",
       "       primary education             NaN  27235.789800  27669.105250   \n",
       "       secondary education  29833.857692  24985.427113  27517.712144   \n",
       "       some college         40971.287000  28345.545172  32824.834228   \n",
       "\n",
       "dob_years                          31-40         41-50         51-60  \\\n",
       "gender education                                                       \n",
       "f      bachelor's degree    30896.240807  32296.105167  34951.969506   \n",
       "       graduate degree      17822.757000           NaN           NaN   \n",
       "       primary education    20428.717433  22444.753474  17281.376692   \n",
       "       secondary education  23242.875751  23722.313800  24376.195362   \n",
       "       some college         29654.062080  33826.400778  28900.295250   \n",
       "m      bachelor's degree    40448.511559  43231.193720  41429.575880   \n",
       "       graduate degree      18551.846000  31771.321000  42945.794000   \n",
       "       primary education    22692.502205  26363.030440  21666.185714   \n",
       "       secondary education  29942.312728  30505.624420  27648.416841   \n",
       "       some college         35947.165785  36364.299971  35011.119308   \n",
       "\n",
       "dob_years                        retired  \n",
       "gender education                          \n",
       "f      bachelor's degree    32772.491338  \n",
       "       graduate degree               NaN  \n",
       "       primary education    25740.812500  \n",
       "       secondary education  27303.789967  \n",
       "       some college         32065.378750  \n",
       "m      bachelor's degree    38953.771673  \n",
       "       graduate degree               NaN  \n",
       "       primary education    19490.938500  \n",
       "       secondary education  26109.930094  \n",
       "       some college         38344.565333  "
      ]
     },
     "execution_count": 667,
     "metadata": {},
     "output_type": "execute_result"
    }
   ],
   "source": [
    "pivot_table_mean = df_sin_nan.pivot_table(index=['gender', 'education'], columns='dob_years', values='total_income', aggfunc='mean')\n",
    "pivot_table_mean"
   ]
  },
  {
   "cell_type": "code",
   "execution_count": 668,
   "id": "aaa09330",
   "metadata": {},
   "outputs": [
    {
     "name": "stderr",
     "output_type": "stream",
     "text": [
      "C:\\Users\\Albert\\AppData\\Local\\Temp\\ipykernel_21240\\514321596.py:1: FutureWarning: The default of observed=False is deprecated and will be changed to True in a future version of pandas. Pass observed=False to retain current behavior or observed=True to adopt the future default and silence this warning.\n",
      "  df.groupby('dob_years')['total_income'].describe()\n"
     ]
    },
    {
     "data": {
      "text/html": [
       "<div>\n",
       "<style scoped>\n",
       "    .dataframe tbody tr th:only-of-type {\n",
       "        vertical-align: middle;\n",
       "    }\n",
       "\n",
       "    .dataframe tbody tr th {\n",
       "        vertical-align: top;\n",
       "    }\n",
       "\n",
       "    .dataframe thead th {\n",
       "        text-align: right;\n",
       "    }\n",
       "</style>\n",
       "<table border=\"1\" class=\"dataframe\">\n",
       "  <thead>\n",
       "    <tr style=\"text-align: right;\">\n",
       "      <th></th>\n",
       "      <th>count</th>\n",
       "      <th>mean</th>\n",
       "      <th>std</th>\n",
       "      <th>min</th>\n",
       "      <th>25%</th>\n",
       "      <th>50%</th>\n",
       "      <th>75%</th>\n",
       "      <th>max</th>\n",
       "    </tr>\n",
       "    <tr>\n",
       "      <th>dob_years</th>\n",
       "      <th></th>\n",
       "      <th></th>\n",
       "      <th></th>\n",
       "      <th></th>\n",
       "      <th></th>\n",
       "      <th></th>\n",
       "      <th></th>\n",
       "      <th></th>\n",
       "    </tr>\n",
       "  </thead>\n",
       "  <tbody>\n",
       "    <tr>\n",
       "      <th>&lt;=18</th>\n",
       "      <td>91.0</td>\n",
       "      <td>25334.072890</td>\n",
       "      <td>11901.096532</td>\n",
       "      <td>5595.912</td>\n",
       "      <td>15933.259</td>\n",
       "      <td>24387.0700</td>\n",
       "      <td>34007.90750</td>\n",
       "      <td>61819.782</td>\n",
       "    </tr>\n",
       "    <tr>\n",
       "      <th>19-25</th>\n",
       "      <td>1113.0</td>\n",
       "      <td>23456.041111</td>\n",
       "      <td>11365.713431</td>\n",
       "      <td>5220.544</td>\n",
       "      <td>15720.418</td>\n",
       "      <td>21425.9640</td>\n",
       "      <td>28286.62200</td>\n",
       "      <td>105400.683</td>\n",
       "    </tr>\n",
       "    <tr>\n",
       "      <th>26-30</th>\n",
       "      <td>2253.0</td>\n",
       "      <td>26984.340749</td>\n",
       "      <td>15104.275797</td>\n",
       "      <td>4494.861</td>\n",
       "      <td>17050.973</td>\n",
       "      <td>23685.3220</td>\n",
       "      <td>32753.47900</td>\n",
       "      <td>159522.288</td>\n",
       "    </tr>\n",
       "    <tr>\n",
       "      <th>31-40</th>\n",
       "      <td>5170.0</td>\n",
       "      <td>28376.735148</td>\n",
       "      <td>17202.045959</td>\n",
       "      <td>3392.845</td>\n",
       "      <td>17664.175</td>\n",
       "      <td>24825.1865</td>\n",
       "      <td>34500.51625</td>\n",
       "      <td>352136.354</td>\n",
       "    </tr>\n",
       "    <tr>\n",
       "      <th>41-50</th>\n",
       "      <td>4754.0</td>\n",
       "      <td>28390.207085</td>\n",
       "      <td>18188.598869</td>\n",
       "      <td>4036.463</td>\n",
       "      <td>17298.390</td>\n",
       "      <td>24569.9680</td>\n",
       "      <td>34810.93150</td>\n",
       "      <td>362496.645</td>\n",
       "    </tr>\n",
       "    <tr>\n",
       "      <th>51-60</th>\n",
       "      <td>4053.0</td>\n",
       "      <td>25482.856294</td>\n",
       "      <td>15355.382852</td>\n",
       "      <td>3306.762</td>\n",
       "      <td>15694.166</td>\n",
       "      <td>22056.7710</td>\n",
       "      <td>31223.49500</td>\n",
       "      <td>180613.801</td>\n",
       "    </tr>\n",
       "    <tr>\n",
       "      <th>retired</th>\n",
       "      <td>1917.0</td>\n",
       "      <td>23057.777452</td>\n",
       "      <td>15382.343455</td>\n",
       "      <td>3471.216</td>\n",
       "      <td>13607.700</td>\n",
       "      <td>19637.0560</td>\n",
       "      <td>27938.43500</td>\n",
       "      <td>274402.943</td>\n",
       "    </tr>\n",
       "  </tbody>\n",
       "</table>\n",
       "</div>"
      ],
      "text/plain": [
       "            count          mean           std       min        25%  \\\n",
       "dob_years                                                            \n",
       "<=18         91.0  25334.072890  11901.096532  5595.912  15933.259   \n",
       "19-25      1113.0  23456.041111  11365.713431  5220.544  15720.418   \n",
       "26-30      2253.0  26984.340749  15104.275797  4494.861  17050.973   \n",
       "31-40      5170.0  28376.735148  17202.045959  3392.845  17664.175   \n",
       "41-50      4754.0  28390.207085  18188.598869  4036.463  17298.390   \n",
       "51-60      4053.0  25482.856294  15355.382852  3306.762  15694.166   \n",
       "retired    1917.0  23057.777452  15382.343455  3471.216  13607.700   \n",
       "\n",
       "                  50%          75%         max  \n",
       "dob_years                                       \n",
       "<=18       24387.0700  34007.90750   61819.782  \n",
       "19-25      21425.9640  28286.62200  105400.683  \n",
       "26-30      23685.3220  32753.47900  159522.288  \n",
       "31-40      24825.1865  34500.51625  352136.354  \n",
       "41-50      24569.9680  34810.93150  362496.645  \n",
       "51-60      22056.7710  31223.49500  180613.801  \n",
       "retired    19637.0560  27938.43500  274402.943  "
      ]
     },
     "execution_count": 668,
     "metadata": {},
     "output_type": "execute_result"
    }
   ],
   "source": [
    "df.groupby('dob_years')['total_income'].describe()"
   ]
  },
  {
   "cell_type": "code",
   "execution_count": 669,
   "id": "41041697",
   "metadata": {},
   "outputs": [
    {
     "name": "stderr",
     "output_type": "stream",
     "text": [
      "C:\\Users\\Albert\\AppData\\Roaming\\Python\\Python311\\site-packages\\seaborn\\_oldcore.py:1498: FutureWarning: is_categorical_dtype is deprecated and will be removed in a future version. Use isinstance(dtype, CategoricalDtype) instead\n",
      "  if pd.api.types.is_categorical_dtype(vector):\n",
      "C:\\Users\\Albert\\AppData\\Roaming\\Python\\Python311\\site-packages\\seaborn\\categorical.py:641: FutureWarning: The default of observed=False is deprecated and will be changed to True in a future version of pandas. Pass observed=False to retain current behavior or observed=True to adopt the future default and silence this warning.\n",
      "  grouped_vals = vals.groupby(grouper)\n"
     ]
    },
    {
     "data": {
      "image/png": "[encoded data removed]",
      "text/plain": [
       "<Figure size 640x480 with 1 Axes>"
      ]
     },
     "metadata": {},
     "output_type": "display_data"
    }
   ],
   "source": [
    "sns.boxplot(data=df, x='dob_years', y='total_income')\n",
    "plt.title('Boxplot de Salarios por Grupo de Edad')\n",
    "plt.show()"
   ]
  },
  {
   "cell_type": "markdown",
   "id": "b16c0f8b",
   "metadata": {},
   "source": [
    "Realizamos un análisis mas detallado de las personas con un grupo de edad de <= 18, ya que es un tanto dificil que personas a esta edad tengan salarios altos, pero con un groupby y un describe de las columnas **dob_years** y **total_income** vimos que el total de estas personas es de 91, una cifra no muy alta, ademas por medio de seaborn hicimos un histograma y un boxplot para analizar la distribucion mediante los bins en **dob_years** y **total_income** y también de estas mismas columnas para ver sus outliers, se llego a la conclusión de que la mediana que se obtuvo en en la pivot table servirá para rellenar los valores faltantes en total_income de nuestro df."
   ]
  },
  {
   "cell_type": "code",
   "execution_count": 670,
   "id": "f430eb30",
   "metadata": {},
   "outputs": [
    {
     "name": "stdout",
     "output_type": "stream",
     "text": [
      "<class 'pandas.core.frame.DataFrame'>\n",
      "RangeIndex: 20707 entries, 0 to 20706\n",
      "Data columns (total 12 columns):\n",
      " #   Column            Non-Null Count  Dtype   \n",
      "---  ------            --------------  -----   \n",
      " 0   children          20707 non-null  int64   \n",
      " 1   days_employed     15905 non-null  float64 \n",
      " 2   dob_years         20707 non-null  category\n",
      " 3   education         20707 non-null  object  \n",
      " 4   education_id      20707 non-null  int64   \n",
      " 5   family_status     20707 non-null  object  \n",
      " 6   family_status_id  20707 non-null  int64   \n",
      " 7   gender            20707 non-null  object  \n",
      " 8   income_type       20707 non-null  object  \n",
      " 9   debt              20707 non-null  int64   \n",
      " 10  total_income      19351 non-null  float64 \n",
      " 11  purpose           20707 non-null  object  \n",
      "dtypes: category(1), float64(2), int64(4), object(5)\n",
      "memory usage: 1.8+ MB\n"
     ]
    }
   ],
   "source": [
    "df.info()"
   ]
  },
  {
   "cell_type": "code",
   "execution_count": 671,
   "id": "f8b46f8d",
   "metadata": {},
   "outputs": [],
   "source": [
    "def fill_total_income(row):\n",
    "    if pd.isnull(row['total_income']):\n",
    "        try:\n",
    "            new_value = pivot_table_median.loc[(row['gender'], row['education']), row['dob_years']]\n",
    "        except KeyError:\n",
    "            new_value = np.nan\n",
    "    else:\n",
    "        new_value = row['total_income']\n",
    "    return new_value\n",
    "df['total_income'] = df.apply(fill_total_income, axis=1)"
   ]
  },
  {
   "cell_type": "code",
   "execution_count": 672,
   "id": "76d8631d",
   "metadata": {},
   "outputs": [
    {
     "name": "stdout",
     "output_type": "stream",
     "text": [
      "<class 'pandas.core.frame.DataFrame'>\n",
      "RangeIndex: 20707 entries, 0 to 20706\n",
      "Data columns (total 12 columns):\n",
      " #   Column            Non-Null Count  Dtype   \n",
      "---  ------            --------------  -----   \n",
      " 0   children          20707 non-null  int64   \n",
      " 1   days_employed     15905 non-null  float64 \n",
      " 2   dob_years         20707 non-null  category\n",
      " 3   education         20707 non-null  object  \n",
      " 4   education_id      20707 non-null  int64   \n",
      " 5   family_status     20707 non-null  object  \n",
      " 6   family_status_id  20707 non-null  int64   \n",
      " 7   gender            20707 non-null  object  \n",
      " 8   income_type       20707 non-null  object  \n",
      " 9   debt              20707 non-null  int64   \n",
      " 10  total_income      20707 non-null  float64 \n",
      " 11  purpose           20707 non-null  object  \n",
      "dtypes: category(1), float64(2), int64(4), object(5)\n",
      "memory usage: 1.8+ MB\n"
     ]
    }
   ],
   "source": [
    "df.info()"
   ]
  },
  {
   "cell_type": "code",
   "execution_count": 673,
   "id": "4af5e3b3",
   "metadata": {},
   "outputs": [
    {
     "data": {
      "text/html": [
       "<div>\n",
       "<style scoped>\n",
       "    .dataframe tbody tr th:only-of-type {\n",
       "        vertical-align: middle;\n",
       "    }\n",
       "\n",
       "    .dataframe tbody tr th {\n",
       "        vertical-align: top;\n",
       "    }\n",
       "\n",
       "    .dataframe thead th {\n",
       "        text-align: right;\n",
       "    }\n",
       "</style>\n",
       "<table border=\"1\" class=\"dataframe\">\n",
       "  <thead>\n",
       "    <tr style=\"text-align: right;\">\n",
       "      <th></th>\n",
       "      <th>dob_years</th>\n",
       "      <th>&lt;=18</th>\n",
       "      <th>19-25</th>\n",
       "      <th>26-30</th>\n",
       "      <th>31-40</th>\n",
       "      <th>41-50</th>\n",
       "      <th>51-60</th>\n",
       "      <th>retired</th>\n",
       "    </tr>\n",
       "    <tr>\n",
       "      <th>gender</th>\n",
       "      <th>education</th>\n",
       "      <th></th>\n",
       "      <th></th>\n",
       "      <th></th>\n",
       "      <th></th>\n",
       "      <th></th>\n",
       "      <th></th>\n",
       "      <th></th>\n",
       "    </tr>\n",
       "  </thead>\n",
       "  <tbody>\n",
       "    <tr>\n",
       "      <th rowspan=\"5\" valign=\"top\">f</th>\n",
       "      <th>bachelor's degree</th>\n",
       "      <td>1756.243149</td>\n",
       "      <td>756.310259</td>\n",
       "      <td>1320.112044</td>\n",
       "      <td>1693.532537</td>\n",
       "      <td>2354.027845</td>\n",
       "      <td>2717.226367</td>\n",
       "      <td>3720.627700</td>\n",
       "    </tr>\n",
       "    <tr>\n",
       "      <th>graduate degree</th>\n",
       "      <td>NaN</td>\n",
       "      <td>NaN</td>\n",
       "      <td>NaN</td>\n",
       "      <td>5968.075884</td>\n",
       "      <td>NaN</td>\n",
       "      <td>NaN</td>\n",
       "      <td>NaN</td>\n",
       "    </tr>\n",
       "    <tr>\n",
       "      <th>primary education</th>\n",
       "      <td>NaN</td>\n",
       "      <td>777.665808</td>\n",
       "      <td>1197.176853</td>\n",
       "      <td>1460.655147</td>\n",
       "      <td>1116.588983</td>\n",
       "      <td>2265.784893</td>\n",
       "      <td>4625.132570</td>\n",
       "    </tr>\n",
       "    <tr>\n",
       "      <th>secondary education</th>\n",
       "      <td>1653.972845</td>\n",
       "      <td>862.528093</td>\n",
       "      <td>1317.343190</td>\n",
       "      <td>1734.741012</td>\n",
       "      <td>2281.845388</td>\n",
       "      <td>2522.143078</td>\n",
       "      <td>2803.565515</td>\n",
       "    </tr>\n",
       "    <tr>\n",
       "      <th>some college</th>\n",
       "      <td>260.992722</td>\n",
       "      <td>717.021363</td>\n",
       "      <td>997.599333</td>\n",
       "      <td>1203.830172</td>\n",
       "      <td>1950.466429</td>\n",
       "      <td>1958.675765</td>\n",
       "      <td>2367.722561</td>\n",
       "    </tr>\n",
       "    <tr>\n",
       "      <th rowspan=\"5\" valign=\"top\">m</th>\n",
       "      <th>bachelor's degree</th>\n",
       "      <td>1021.330940</td>\n",
       "      <td>754.060724</td>\n",
       "      <td>1123.499620</td>\n",
       "      <td>1539.396554</td>\n",
       "      <td>1733.271162</td>\n",
       "      <td>2113.207733</td>\n",
       "      <td>2425.545642</td>\n",
       "    </tr>\n",
       "    <tr>\n",
       "      <th>graduate degree</th>\n",
       "      <td>NaN</td>\n",
       "      <td>NaN</td>\n",
       "      <td>NaN</td>\n",
       "      <td>2351.431934</td>\n",
       "      <td>409.200149</td>\n",
       "      <td>5352.038180</td>\n",
       "      <td>NaN</td>\n",
       "    </tr>\n",
       "    <tr>\n",
       "      <th>primary education</th>\n",
       "      <td>NaN</td>\n",
       "      <td>949.705772</td>\n",
       "      <td>940.745788</td>\n",
       "      <td>1066.904090</td>\n",
       "      <td>927.789271</td>\n",
       "      <td>1938.133640</td>\n",
       "      <td>2564.903700</td>\n",
       "    </tr>\n",
       "    <tr>\n",
       "      <th>secondary education</th>\n",
       "      <td>1036.644001</td>\n",
       "      <td>776.492155</td>\n",
       "      <td>1124.764621</td>\n",
       "      <td>1515.835530</td>\n",
       "      <td>1833.122906</td>\n",
       "      <td>1910.641350</td>\n",
       "      <td>1601.539176</td>\n",
       "    </tr>\n",
       "    <tr>\n",
       "      <th>some college</th>\n",
       "      <td>223.709545</td>\n",
       "      <td>895.957814</td>\n",
       "      <td>1046.437583</td>\n",
       "      <td>1310.052496</td>\n",
       "      <td>2100.473217</td>\n",
       "      <td>1612.416835</td>\n",
       "      <td>3551.828180</td>\n",
       "    </tr>\n",
       "  </tbody>\n",
       "</table>\n",
       "</div>"
      ],
      "text/plain": [
       "dob_years                          <=18       19-25        26-30        31-40  \\\n",
       "gender education                                                                \n",
       "f      bachelor's degree    1756.243149  756.310259  1320.112044  1693.532537   \n",
       "       graduate degree              NaN         NaN          NaN  5968.075884   \n",
       "       primary education            NaN  777.665808  1197.176853  1460.655147   \n",
       "       secondary education  1653.972845  862.528093  1317.343190  1734.741012   \n",
       "       some college          260.992722  717.021363   997.599333  1203.830172   \n",
       "m      bachelor's degree    1021.330940  754.060724  1123.499620  1539.396554   \n",
       "       graduate degree              NaN         NaN          NaN  2351.431934   \n",
       "       primary education            NaN  949.705772   940.745788  1066.904090   \n",
       "       secondary education  1036.644001  776.492155  1124.764621  1515.835530   \n",
       "       some college          223.709545  895.957814  1046.437583  1310.052496   \n",
       "\n",
       "dob_years                         41-50        51-60      retired  \n",
       "gender education                                                   \n",
       "f      bachelor's degree    2354.027845  2717.226367  3720.627700  \n",
       "       graduate degree              NaN          NaN          NaN  \n",
       "       primary education    1116.588983  2265.784893  4625.132570  \n",
       "       secondary education  2281.845388  2522.143078  2803.565515  \n",
       "       some college         1950.466429  1958.675765  2367.722561  \n",
       "m      bachelor's degree    1733.271162  2113.207733  2425.545642  \n",
       "       graduate degree       409.200149  5352.038180          NaN  \n",
       "       primary education     927.789271  1938.133640  2564.903700  \n",
       "       secondary education  1833.122906  1910.641350  1601.539176  \n",
       "       some college         2100.473217  1612.416835  3551.828180  "
      ]
     },
     "execution_count": 673,
     "metadata": {},
     "output_type": "execute_result"
    }
   ],
   "source": [
    "pivot_table_days_median = df_sin_nan.pivot_table(index=['gender', 'education'], columns='dob_years', values='days_employed', aggfunc='median')\n",
    "pivot_table_days_median"
   ]
  },
  {
   "cell_type": "code",
   "execution_count": 676,
   "id": "86014967",
   "metadata": {},
   "outputs": [],
   "source": [
    "def fill_days_employed(row):\n",
    "    if pd.isnull(row['days_employed']):\n",
    "        try:\n",
    "            new_value = pivot_table_days_median.loc[(row['gender'], row['education']), row['dob_years']]\n",
    "        except KeyError:\n",
    "            new_value = np.nan\n",
    "    else:\n",
    "        new_value = row['days_employed']\n",
    "    return new_value\n",
    "df['days_employed'] = df.apply(fill_days_employed, axis=1)"
   ]
  },
  {
   "cell_type": "code",
   "execution_count": 677,
   "id": "11ffa641",
   "metadata": {},
   "outputs": [
    {
     "name": "stdout",
     "output_type": "stream",
     "text": [
      "<class 'pandas.core.frame.DataFrame'>\n",
      "RangeIndex: 20707 entries, 0 to 20706\n",
      "Data columns (total 12 columns):\n",
      " #   Column            Non-Null Count  Dtype   \n",
      "---  ------            --------------  -----   \n",
      " 0   children          20707 non-null  int64   \n",
      " 1   days_employed     20705 non-null  float64 \n",
      " 2   dob_years         20707 non-null  category\n",
      " 3   education         20707 non-null  object  \n",
      " 4   education_id      20707 non-null  int64   \n",
      " 5   family_status     20707 non-null  object  \n",
      " 6   family_status_id  20707 non-null  int64   \n",
      " 7   gender            20707 non-null  object  \n",
      " 8   income_type       20707 non-null  object  \n",
      " 9   debt              20707 non-null  int64   \n",
      " 10  total_income      20707 non-null  float64 \n",
      " 11  purpose           20707 non-null  object  \n",
      "dtypes: category(1), float64(2), int64(4), object(5)\n",
      "memory usage: 1.8+ MB\n"
     ]
    }
   ],
   "source": [
    "df.info()"
   ]
  },
  {
   "cell_type": "markdown",
   "id": "2ceade25",
   "metadata": {},
   "source": [
    "Después de utilizar la función para rellenar los valores, vemos que aun tenemos dos valores NaN, asi que veamos mas acerca de estos dos pequeños problemas."
   ]
  },
  {
   "cell_type": "code",
   "execution_count": 680,
   "id": "c7d07855",
   "metadata": {},
   "outputs": [
    {
     "data": {
      "text/html": [
       "<div>\n",
       "<style scoped>\n",
       "    .dataframe tbody tr th:only-of-type {\n",
       "        vertical-align: middle;\n",
       "    }\n",
       "\n",
       "    .dataframe tbody tr th {\n",
       "        vertical-align: top;\n",
       "    }\n",
       "\n",
       "    .dataframe thead th {\n",
       "        text-align: right;\n",
       "    }\n",
       "</style>\n",
       "<table border=\"1\" class=\"dataframe\">\n",
       "  <thead>\n",
       "    <tr style=\"text-align: right;\">\n",
       "      <th></th>\n",
       "      <th>children</th>\n",
       "      <th>days_employed</th>\n",
       "      <th>dob_years</th>\n",
       "      <th>education</th>\n",
       "      <th>education_id</th>\n",
       "      <th>family_status</th>\n",
       "      <th>family_status_id</th>\n",
       "      <th>gender</th>\n",
       "      <th>income_type</th>\n",
       "      <th>debt</th>\n",
       "      <th>total_income</th>\n",
       "      <th>purpose</th>\n",
       "    </tr>\n",
       "  </thead>\n",
       "  <tbody>\n",
       "    <tr>\n",
       "      <th>2944</th>\n",
       "      <td>0</td>\n",
       "      <td>NaN</td>\n",
       "      <td>retired</td>\n",
       "      <td>graduate degree</td>\n",
       "      <td>4</td>\n",
       "      <td>married</td>\n",
       "      <td>0</td>\n",
       "      <td>m</td>\n",
       "      <td>retiree</td>\n",
       "      <td>0</td>\n",
       "      <td>15800.399</td>\n",
       "      <td>real_estate_purchase</td>\n",
       "    </tr>\n",
       "    <tr>\n",
       "      <th>12444</th>\n",
       "      <td>0</td>\n",
       "      <td>NaN</td>\n",
       "      <td>retired</td>\n",
       "      <td>graduate degree</td>\n",
       "      <td>4</td>\n",
       "      <td>married</td>\n",
       "      <td>0</td>\n",
       "      <td>f</td>\n",
       "      <td>retiree</td>\n",
       "      <td>0</td>\n",
       "      <td>40868.031</td>\n",
       "      <td>real_estate_purchase</td>\n",
       "    </tr>\n",
       "  </tbody>\n",
       "</table>\n",
       "</div>"
      ],
      "text/plain": [
       "       children  days_employed dob_years        education  education_id  \\\n",
       "2944          0            NaN   retired  graduate degree             4   \n",
       "12444         0            NaN   retired  graduate degree             4   \n",
       "\n",
       "      family_status  family_status_id gender income_type  debt  total_income  \\\n",
       "2944        married                 0      m     retiree     0     15800.399   \n",
       "12444       married                 0      f     retiree     0     40868.031   \n",
       "\n",
       "                    purpose  \n",
       "2944   real_estate_purchase  \n",
       "12444  real_estate_purchase  "
      ]
     },
     "execution_count": 680,
     "metadata": {},
     "output_type": "execute_result"
    }
   ],
   "source": [
    "df_days_employed_nan = df.loc[pd.isna(df['days_employed'])]\n",
    "df_days_employed_nan"
   ]
  },
  {
   "cell_type": "code",
   "execution_count": 685,
   "id": "12155d08",
   "metadata": {},
   "outputs": [
    {
     "data": {
      "text/plain": [
       "2803.565514717735"
      ]
     },
     "execution_count": 685,
     "metadata": {},
     "output_type": "execute_result"
    }
   ],
   "source": [
    "mean_retired_days_employed = df.loc[df['dob_years'] == 'retired', 'days_employed'].median()\n",
    "mean_retired_days_employed"
   ]
  },
  {
   "cell_type": "code",
   "execution_count": 686,
   "id": "384c702b",
   "metadata": {},
   "outputs": [],
   "source": [
    "df['days_employed'] = df['days_employed'].fillna(2803)"
   ]
  },
  {
   "cell_type": "code",
   "execution_count": 687,
   "id": "e1c2c172",
   "metadata": {},
   "outputs": [
    {
     "data": {
      "text/plain": [
       "0"
      ]
     },
     "execution_count": 687,
     "metadata": {},
     "output_type": "execute_result"
    }
   ],
   "source": [
    "df['days_employed'].isna().sum()"
   ]
  },
  {
   "cell_type": "markdown",
   "id": "ea705bab",
   "metadata": {},
   "source": [
    "Como solo teniamos dos valores NaN y los dos pertenecian al grupo de la columna **dob_years** == **Retired** obtuvimos la mediana y con este valor sustituimos los dos valores restantes, ahora nuestro df ha quedado limpio, sin valores duplicados, sin valores atipicos, sin valores faltantes, listo para probar las Hipotesis."
   ]
  },
  {
   "cell_type": "code",
   "execution_count": 688,
   "id": "a7fd8bd2",
   "metadata": {},
   "outputs": [
    {
     "name": "stdout",
     "output_type": "stream",
     "text": [
      "<class 'pandas.core.frame.DataFrame'>\n",
      "RangeIndex: 20707 entries, 0 to 20706\n",
      "Data columns (total 12 columns):\n",
      " #   Column            Non-Null Count  Dtype   \n",
      "---  ------            --------------  -----   \n",
      " 0   children          20707 non-null  int64   \n",
      " 1   days_employed     20707 non-null  float64 \n",
      " 2   dob_years         20707 non-null  category\n",
      " 3   education         20707 non-null  object  \n",
      " 4   education_id      20707 non-null  int64   \n",
      " 5   family_status     20707 non-null  object  \n",
      " 6   family_status_id  20707 non-null  int64   \n",
      " 7   gender            20707 non-null  object  \n",
      " 8   income_type       20707 non-null  object  \n",
      " 9   debt              20707 non-null  int64   \n",
      " 10  total_income      20707 non-null  float64 \n",
      " 11  purpose           20707 non-null  object  \n",
      "dtypes: category(1), float64(2), int64(4), object(5)\n",
      "memory usage: 1.8+ MB\n"
     ]
    }
   ],
   "source": [
    "df.info()"
   ]
  },
  {
   "cell_type": "markdown",
   "id": "8770f081",
   "metadata": {},
   "source": [
    "## Comprobación de las hipótesis"
   ]
  },
  {
   "cell_type": "markdown",
   "id": "d006a4cf",
   "metadata": {},
   "source": [
    "**¿Existe una correlación entre tener hijos y pagar a tiempo?**"
   ]
  },
  {
   "cell_type": "code",
   "execution_count": 695,
   "id": "b03ae92e",
   "metadata": {},
   "outputs": [
    {
     "name": "stdout",
     "output_type": "stream",
     "text": [
      "children    0    1    2   3  4  5\n",
      "gender                           \n",
      "f         584  245  138  17  1  0\n",
      "m         466  197   64  10  3  0\n",
      "\n",
      "           debt       tasa_de_incumplimiento\n",
      "          count   sum                       \n",
      "children                                    \n",
      "0         13526  1050               0.077628\n",
      "1          4734   442               0.093367\n",
      "2          2070   202               0.097585\n",
      "3           327    27               0.082569\n",
      "4            41     4               0.097561\n",
      "5             9     0               0.000000\n"
     ]
    }
   ],
   "source": [
    "pivot_table_childrens_vs_debt = df.pivot_table(index='gender', columns='children', values='debt', aggfunc='sum')\n",
    "debt_agrupado = df.groupby('children').agg({'debt': ['count', 'sum']})\n",
    "debt_agrupado['tasa_de_incumplimiento'] = debt_agrupado['debt']['sum'] / debt_agrupado['debt']['count']\n",
    "print(pivot_table_childrens_vs_debt)\n",
    "print()\n",
    "print(debt_agrupado)"
   ]
  },
  {
   "cell_type": "markdown",
   "id": "eb95678b",
   "metadata": {},
   "source": [
    "Al analizar esta hipótesis observamos lo siguiente, las personas que no tienen hijos tiene un 7.7% de incumplimiento, mientras que las personas que tienen mas de un hijo se encuentran por encima en la taza de incumplimiento de las personas que no tienen hijos, aunque la diferencia no es muy alta, la correlacion que se observa es clara que aumenta cuando se tiene hijos, : \"Se observa que a medida que aumenta el número de hijos, la tasa de incumplimiento en los pagos también aumenta.\" "
   ]
  },
  {
   "cell_type": "markdown",
   "id": "89e10795",
   "metadata": {},
   "source": [
    "**¿Existe una correlación entre la situación familiar y el pago a tiempo?**"
   ]
  },
  {
   "cell_type": "code",
   "execution_count": 701,
   "id": "a680b37c",
   "metadata": {},
   "outputs": [
    {
     "name": "stdout",
     "output_type": "stream",
     "text": [
      "family_status  civil partnership  divorced  married  unmarried  widow/widower\n",
      "gender                                                                       \n",
      "f                            228        61      527        117             52\n",
      "m                            154        24      396        155             11\n",
      "\n",
      "                  debt        Tasa de incumplimiento\n",
      "                   sum  count                       \n",
      "family_status                                       \n",
      "civil partnership  382   4011               0.095238\n",
      "divorced            85   1175               0.072340\n",
      "married            923  11843               0.077936\n",
      "unmarried          272   2749               0.098945\n",
      "widow/widower       63    929               0.067815\n"
     ]
    }
   ],
   "source": [
    "family_status_vs_debt = df.pivot_table(index='gender', columns='family_status', values='debt', aggfunc='sum')\n",
    "debt_agrupado_family_status = df.groupby('family_status').agg({'debt':['sum', 'count']})\n",
    "debt_agrupado_family_status['Tasa de incumplimiento'] = debt_agrupado_family_status['debt']['sum'] / debt_agrupado_family_status['debt']['count']\n",
    "print(family_status_vs_debt)\n",
    "print()\n",
    "print(debt_agrupado_family_status)"
   ]
  },
  {
   "cell_type": "markdown",
   "id": "c5ce87e3",
   "metadata": {},
   "source": [
    "Después de realizar una pivot_table para visualizar mejor la comparacion de la columna **children** y **debt** y con ayuda de la funcion de agregación vemos la Tasa de Incumplimiento, la cual nos deja ver que, un 9.5% en **family_status** con *civil_partnership* y **unmarried** con 9.8% tienen la mayor taza de incumplimiento. La menor tasa de incumplimiento la tienen las personas **divorced** y **married** con un una sa de al rededor del 7.8%, entonces la situacion familiar si influye en los pagos incumplidos al banco. "
   ]
  },
  {
   "cell_type": "markdown",
   "id": "db7c6e6d",
   "metadata": {},
   "source": [
    "**¿Existe una correlación entre el nivel de ingresos y el pago a tiempo?**"
   ]
  },
  {
   "cell_type": "code",
   "execution_count": 708,
   "id": "347ef54b",
   "metadata": {},
   "outputs": [
    {
     "name": "stdout",
     "output_type": "stream",
     "text": [
      "categoria_ingresos  Q1: Bajo  Q2: Medio bajo  Q3: Medio alto  Q4: Alto\n",
      "gender                                                                \n",
      "f                        277             330             216       162\n",
      "m                        129             150             262       199\n",
      "\n",
      "                   debt       tasa_incumplimiento\n",
      "                    sum count                    \n",
      "categoria_ingresos                               \n",
      "Q1: Bajo            406  5177            0.078424\n",
      "Q2: Medio bajo      480  5177            0.092718\n",
      "Q3: Medio alto      478  5176            0.092349\n",
      "Q4: Alto            361  5177            0.069732\n"
     ]
    },
    {
     "name": "stderr",
     "output_type": "stream",
     "text": [
      "C:\\Users\\Albert\\AppData\\Local\\Temp\\ipykernel_21240\\883014473.py:7: FutureWarning: The default of observed=False is deprecated and will be changed to True in a future version of pandas. Pass observed=False to retain current behavior or observed=True to adopt the future default and silence this warning.\n",
      "  debt_agrupado_total_income = df.groupby('categoria_ingresos').agg({'debt': ['sum', 'count']})\n"
     ]
    }
   ],
   "source": [
    "df['categoria_ingresos'] = pd.qcut(df['total_income'],\n",
    "                                 q=4,\n",
    "                                 labels= ['Q1: Bajo', 'Q2: Medio bajo', 'Q3: Medio alto', 'Q4: Alto'],\n",
    "                                 )\n",
    "\n",
    "total_income_vs_debt = df.pivot_table(index='gender', columns='categoria_ingresos', values='debt', aggfunc='sum')\n",
    "debt_agrupado_total_income = df.groupby('categoria_ingresos').agg({'debt': ['sum', 'count']})\n",
    "debt_agrupado_total_income['tasa_incumplimiento'] = debt_agrupado_total_income['debt']['sum'] / debt_agrupado_total_income['debt']['count']\n",
    "print(total_income_vs_debt)\n",
    "print()\n",
    "print(debt_agrupado_total_income)"
   ]
  },
  {
   "cell_type": "markdown",
   "id": "e618b862",
   "metadata": {},
   "source": [
    "Para poder responder a esta Hipótesis tuvimos que cambiar de variable numerica continua a cactegorica, para eso utilizamos la función pcut, una funcion muy poderosa que es muy versatil de utilizar, una vez haciendo esto procedimos a utilizar la pivot table junto con la funcion de agregagación agg para ver la tasa de incumplimiento, podemos observar que las tasas que mas incumplen son la Medio baja y la Medio alta, ambas con un 9.2%, así que en dos clases a medida que aumenta el salario el incumplimiento también, pero en los ingresos alto disminuye."
   ]
  },
  {
   "cell_type": "markdown",
   "id": "1415d4de",
   "metadata": {},
   "source": [
    "**¿Cómo afecta el propósito del crédito a la tasa de incumplimiento?**"
   ]
  },
  {
   "cell_type": "code",
   "execution_count": 709,
   "id": "4aa9ec0d",
   "metadata": {},
   "outputs": [
    {
     "name": "stdout",
     "output_type": "stream",
     "text": [
      "purpose  car  car_purchase  education  house_purchase  housing  property  \\\n",
      "gender                                                                     \n",
      "f         52           181        206              73       79        23   \n",
      "m         32           136        158              53       50        19   \n",
      "\n",
      "purpose  property_construction  real_estate_construction  \\\n",
      "gender                                                     \n",
      "f                           54                        21   \n",
      "m                           42                        27   \n",
      "\n",
      "purpose  real_estate_purchase  real_estate_transaction  wedding  \n",
      "gender                                                           \n",
      "f                         111                       82      103  \n",
      "m                          72                       74       77  \n",
      "\n",
      "                         debt       tasa_incumplimiento\n",
      "                          sum count                    \n",
      "purpose                                                \n",
      "car                        84   953            0.088143\n",
      "car_purchase              317  3208            0.098815\n",
      "education                 364  3826            0.095139\n",
      "house_purchase            126  1856            0.067888\n",
      "housing                   129  1846            0.069881\n",
      "property                   42   623            0.067416\n",
      "property_construction      96  1225            0.078367\n",
      "real_estate_construction   48   618            0.077670\n",
      "real_estate_purchase      183  2442            0.074939\n",
      "real_estate_transaction   156  1896            0.082278\n",
      "wedding                   180  2214            0.081301\n"
     ]
    }
   ],
   "source": [
    "purpose_vs_debt = df.pivot_table(index='gender', columns='purpose', values='debt', aggfunc='sum')\n",
    "debt_agrupado_purpose = df.groupby('purpose').agg({'debt': ['sum', 'count']})\n",
    "debt_agrupado_purpose['tasa_incumplimiento'] = debt_agrupado_purpose['debt']['sum'] / debt_agrupado_purpose['debt']['count']\n",
    "print(purpose_vs_debt)\n",
    "print()\n",
    "print(debt_agrupado_purpose)"
   ]
  },
  {
   "cell_type": "markdown",
   "id": "fb1b85c1",
   "metadata": {},
   "source": [
    "Claramente podemos observar cosas muy interesantes, los que ocupan los prestamos para los carros tienen mas marcado el problema de inclumplimiento, seguramente no calcularon bien antes de sacar el credito y por eso se encuentran endeudados. Seguido por la educacion tambien son clientes que incumplen los pagos. Los que menos incumplen son los prestamos para comprar una casa, seguro los clientes que piden prestamos para esto hicieron un mejor calculo de sus capacidades de pago."
   ]
  },
  {
   "cell_type": "markdown",
   "id": "541ce68b",
   "metadata": {},
   "source": [
    "## Conclusión General"
   ]
  },
  {
   "cell_type": "markdown",
   "id": "98f0a1c4",
   "metadata": {},
   "source": [
    "Al principio de este proyecto, se nos entrego un DF muy grande con 21,255 filas y 12 columnas. En lo cual se encontraban miles de valores ausentes, aunque se centraban en las columnas days_employed y total_income las demas necesitaban atencion. \n",
    "La columna 'education tenia numeros duplicados debido a errores de escritura.\n",
    "\n",
    "La columna 'children' contaba con dos valores raros -1 hijos y 20 hijos, se arreglaron para que fueran validos.\n",
    "\n",
    "La columna 'days_employed' contaba con 3 errores graves. Primero valores negativos, despues valores muy grandes y miles de valores ausentes, Se corrigieron esta columna, los negativos se pasaron a positivos, los valores eran normales no exagerados y los valores ausentes se sustituyeron correcatmente. \n",
    "\n",
    "En la columna 'total_income' habia valores faltantes, estos se corrigieron en base al tipo de ingreso y se quitaron los valores ausentes. \n",
    "\n",
    "En las demas columnas los valores incorrectos o faltantes no eran exagerados, pero se corrigieron..\n",
    "\n",
    "Se crearon dos columnas 'age_group', 'income_category'.\n",
    "\n",
    "Se encontraron 818 valores duplicados, los cuales se corrigieron.\n",
    "\n",
    "Las tablas y el df quedaron limpios sin valores ausentes. Definitvimanete las personas con hijos tienden a tener mas deudas.\n",
    "\n",
    "En cuanto a las hipotesis planteadas y resuletas en la seccion 4, puedo dar mi siguiente interpretacion.   \n",
    "\n",
    "**¿Existe una correlación entre tener hijos y pagar a tiempo?** Observamos que si afecta un poco tener hijos, las personas sin hijos tienen menos inclumplimientos en sus pagos, en consecuencia los que si tienen hijos tienes mas problemas para hacer los pagos.\n",
    "\n",
    "**¿Existe una correlación entre la situación familiar y el pago a tiempo?** Vimos que las personas que se encuentran en union civil tienden a tener problemas en el pago de sus prestamos, en comparacion las personas viudas son las que pagan a tiempo y no tienen problemas con sus pagos.\n",
    "\n",
    "**¿Existe una correlación entre el nivel de ingresos y el pago a tiempo?** Lo que observamos en esta parte es muy interesante, a simple vista se puede decir que las personas con bajos ingresos tienen problemas a la hora de sacar un prestamos, mas sin embargo en ocasiones esta hipotesis esta muy alejada de la realidad. Por ejemplo en este df que evaluamos, las personas que mas tienen problemas con el incumplimiento de los pagos, son los de medio alto, esto nos dice que aunque estas personas tienen salarios buenos aun asi se les dificulta cumplir con los pagos. Mientras que las personas con bajo ingresos se encuentran mejor que los medio-bajo y los medio alto. Aunque las personas que mejor cumplen con sus pagos son los de ingresos alto, excelente vision nos dio esta investigacion por categoria de ingreso.\n",
    "\n",
    "**¿Cómo afecta el propósito del crédito a la tasa de incumplimiento?** Esto nos dice algo que muchos conocemos, a veces hay muchas personas que quieren un carro neuvo sin en verdad tener la solvencia de hacer los pagos en tiempo por el carro, mas sin embargo se aventuran a hacerlo, las personas que tienen un prestamo de carro son las que mas tienen problemas a la hora de hacer sus pagos de los prestamos, la cual se puede ver que si es una taza elevada. Pero muy cerca se encuentra los que solicitaron prestamos por educacion lo cual es relevante saber. Las personas que mejor cumplen con los pagos son los que compran una propiedad, ya que su tasa de incumplimiento es las mas baja de todas.\n"
   ]
  }
 ],
 "metadata": {
  "kernelspec": {
   "display_name": "Python 3 (ipykernel)",
   "language": "python",
   "name": "python3"
  },
  "language_info": {
   "codemirror_mode": {
    "name": "ipython",
    "version": 3
   },
   "file_extension": ".py",
   "mimetype": "text/x-python",
   "name": "python",
   "nbconvert_exporter": "python",
   "pygments_lexer": "ipython3",
   "version": "3.11.1"
  },
  "toc": {
   "base_numbering": 1,
   "nav_menu": {},
   "number_sections": true,
   "sideBar": true,
   "skip_h1_title": false,
   "title_cell": "Table of Contents",
   "title_sidebar": "Contents",
   "toc_cell": false,
   "toc_position": {},
   "toc_section_display": true,
   "toc_window_display": false
  }
 },
 "nbformat": 4,
 "nbformat_minor": 5
}
